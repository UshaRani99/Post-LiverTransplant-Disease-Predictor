{
 "cells": [
  {
   "cell_type": "code",
   "execution_count": 215,
   "id": "159eeec7",
   "metadata": {},
   "outputs": [],
   "source": [
    "import pandas as pd\n",
    "import matplotlib.pyplot as plt \n",
    "import seaborn as sns\n",
    "import numpy as np\n",
    "from sklearn import preprocessing"
   ]
  },
  {
   "cell_type": "code",
   "execution_count": 107,
   "id": "ae2901f1",
   "metadata": {},
   "outputs": [],
   "source": [
    "# Load the dataset\n",
    "data = pd.read_csv(r\"D:/Project-1 DSA/LiverT_dataset.csv\")"
   ]
  },
  {
   "cell_type": "code",
   "execution_count": 108,
   "id": "5945b5ad",
   "metadata": {},
   "outputs": [
    {
     "data": {
      "text/html": [
       "<div>\n",
       "<style scoped>\n",
       "    .dataframe tbody tr th:only-of-type {\n",
       "        vertical-align: middle;\n",
       "    }\n",
       "\n",
       "    .dataframe tbody tr th {\n",
       "        vertical-align: top;\n",
       "    }\n",
       "\n",
       "    .dataframe thead th {\n",
       "        text-align: right;\n",
       "    }\n",
       "</style>\n",
       "<table border=\"1\" class=\"dataframe\">\n",
       "  <thead>\n",
       "    <tr style=\"text-align: right;\">\n",
       "      <th></th>\n",
       "      <th>Column1</th>\n",
       "      <th>D_Age</th>\n",
       "      <th>D_Gender</th>\n",
       "      <th>D_BMI</th>\n",
       "      <th>D_Cause of Death</th>\n",
       "      <th>D_Diabetes</th>\n",
       "      <th>D_Hypertension</th>\n",
       "      <th>D_Alcohol_Abuse</th>\n",
       "      <th>D_Smoking</th>\n",
       "      <th>D_Lympochyte</th>\n",
       "      <th>...</th>\n",
       "      <th>R Na</th>\n",
       "      <th>R_Mg</th>\n",
       "      <th>R_WBC</th>\n",
       "      <th>R_Platelets</th>\n",
       "      <th>R_Cold_Ischemia_Time</th>\n",
       "      <th>R_Warm_Ischemia_Time</th>\n",
       "      <th>R_Blood_Transfusion</th>\n",
       "      <th>R_Immunosuppressant_Medication</th>\n",
       "      <th>R_Rejection_Episodes</th>\n",
       "      <th>Complications</th>\n",
       "    </tr>\n",
       "  </thead>\n",
       "  <tbody>\n",
       "    <tr>\n",
       "      <th>0</th>\n",
       "      <td>0</td>\n",
       "      <td>40</td>\n",
       "      <td>Female</td>\n",
       "      <td>32.2</td>\n",
       "      <td>Stroke</td>\n",
       "      <td>1</td>\n",
       "      <td>1</td>\n",
       "      <td>1</td>\n",
       "      <td>0</td>\n",
       "      <td>0</td>\n",
       "      <td>...</td>\n",
       "      <td>5.9</td>\n",
       "      <td>1.5</td>\n",
       "      <td>21310</td>\n",
       "      <td>426232</td>\n",
       "      <td>3.9</td>\n",
       "      <td>2.1</td>\n",
       "      <td>0.0</td>\n",
       "      <td>Cyclosporine</td>\n",
       "      <td>3</td>\n",
       "      <td>Infection</td>\n",
       "    </tr>\n",
       "    <tr>\n",
       "      <th>1</th>\n",
       "      <td>1</td>\n",
       "      <td>45</td>\n",
       "      <td>Female</td>\n",
       "      <td>32.1</td>\n",
       "      <td>Other</td>\n",
       "      <td>0</td>\n",
       "      <td>0</td>\n",
       "      <td>0</td>\n",
       "      <td>0</td>\n",
       "      <td>1</td>\n",
       "      <td>...</td>\n",
       "      <td>1.8</td>\n",
       "      <td>0.3</td>\n",
       "      <td>19471</td>\n",
       "      <td>414357</td>\n",
       "      <td>3.4</td>\n",
       "      <td>3.0</td>\n",
       "      <td>0.0</td>\n",
       "      <td>Cyclosporine</td>\n",
       "      <td>1</td>\n",
       "      <td>Artery Thrombosis</td>\n",
       "    </tr>\n",
       "    <tr>\n",
       "      <th>2</th>\n",
       "      <td>2</td>\n",
       "      <td>21</td>\n",
       "      <td>Male</td>\n",
       "      <td>26.3</td>\n",
       "      <td>Accident</td>\n",
       "      <td>1</td>\n",
       "      <td>1</td>\n",
       "      <td>0</td>\n",
       "      <td>1</td>\n",
       "      <td>1</td>\n",
       "      <td>...</td>\n",
       "      <td>17.1</td>\n",
       "      <td>1.4</td>\n",
       "      <td>9204</td>\n",
       "      <td>292844</td>\n",
       "      <td>7.2</td>\n",
       "      <td>2.8</td>\n",
       "      <td>NaN</td>\n",
       "      <td>Tacrolimus</td>\n",
       "      <td>4</td>\n",
       "      <td>Post-transplant Diabetes</td>\n",
       "    </tr>\n",
       "    <tr>\n",
       "      <th>3</th>\n",
       "      <td>3</td>\n",
       "      <td>41</td>\n",
       "      <td>Female</td>\n",
       "      <td>39.3</td>\n",
       "      <td>Other</td>\n",
       "      <td>1</td>\n",
       "      <td>1</td>\n",
       "      <td>1</td>\n",
       "      <td>0</td>\n",
       "      <td>1</td>\n",
       "      <td>...</td>\n",
       "      <td>18.7</td>\n",
       "      <td>1.3</td>\n",
       "      <td>24350</td>\n",
       "      <td>190143</td>\n",
       "      <td>11.0</td>\n",
       "      <td>2.5</td>\n",
       "      <td>0.0</td>\n",
       "      <td>Other</td>\n",
       "      <td>0</td>\n",
       "      <td>Post-transplant Diabetes</td>\n",
       "    </tr>\n",
       "    <tr>\n",
       "      <th>4</th>\n",
       "      <td>4</td>\n",
       "      <td>66</td>\n",
       "      <td>Female</td>\n",
       "      <td>38.4</td>\n",
       "      <td>Accident</td>\n",
       "      <td>1</td>\n",
       "      <td>1</td>\n",
       "      <td>1</td>\n",
       "      <td>0</td>\n",
       "      <td>0</td>\n",
       "      <td>...</td>\n",
       "      <td>7.8</td>\n",
       "      <td>1.2</td>\n",
       "      <td>14871</td>\n",
       "      <td>403780</td>\n",
       "      <td>2.7</td>\n",
       "      <td>1.5</td>\n",
       "      <td>1.0</td>\n",
       "      <td>Other</td>\n",
       "      <td>3</td>\n",
       "      <td>Renal Dysfunction</td>\n",
       "    </tr>\n",
       "    <tr>\n",
       "      <th>...</th>\n",
       "      <td>...</td>\n",
       "      <td>...</td>\n",
       "      <td>...</td>\n",
       "      <td>...</td>\n",
       "      <td>...</td>\n",
       "      <td>...</td>\n",
       "      <td>...</td>\n",
       "      <td>...</td>\n",
       "      <td>...</td>\n",
       "      <td>...</td>\n",
       "      <td>...</td>\n",
       "      <td>...</td>\n",
       "      <td>...</td>\n",
       "      <td>...</td>\n",
       "      <td>...</td>\n",
       "      <td>...</td>\n",
       "      <td>...</td>\n",
       "      <td>...</td>\n",
       "      <td>...</td>\n",
       "      <td>...</td>\n",
       "      <td>...</td>\n",
       "    </tr>\n",
       "    <tr>\n",
       "      <th>1937</th>\n",
       "      <td>1934</td>\n",
       "      <td>18</td>\n",
       "      <td>Male</td>\n",
       "      <td>35.3</td>\n",
       "      <td>Other</td>\n",
       "      <td>1</td>\n",
       "      <td>0</td>\n",
       "      <td>1</td>\n",
       "      <td>0</td>\n",
       "      <td>1</td>\n",
       "      <td>...</td>\n",
       "      <td>15.4</td>\n",
       "      <td>0.9</td>\n",
       "      <td>21195</td>\n",
       "      <td>259229</td>\n",
       "      <td>2.5</td>\n",
       "      <td>1.9</td>\n",
       "      <td>0.0</td>\n",
       "      <td>Other</td>\n",
       "      <td>5</td>\n",
       "      <td>Primary Graft Non-function</td>\n",
       "    </tr>\n",
       "    <tr>\n",
       "      <th>1938</th>\n",
       "      <td>1934</td>\n",
       "      <td>18</td>\n",
       "      <td>Male</td>\n",
       "      <td>35.3</td>\n",
       "      <td>Other</td>\n",
       "      <td>1</td>\n",
       "      <td>0</td>\n",
       "      <td>1</td>\n",
       "      <td>0</td>\n",
       "      <td>1</td>\n",
       "      <td>...</td>\n",
       "      <td>15.4</td>\n",
       "      <td>0.9</td>\n",
       "      <td>21195</td>\n",
       "      <td>259229</td>\n",
       "      <td>2.5</td>\n",
       "      <td>1.9</td>\n",
       "      <td>0.0</td>\n",
       "      <td>Other</td>\n",
       "      <td>5</td>\n",
       "      <td>Primary Graft Non-function</td>\n",
       "    </tr>\n",
       "    <tr>\n",
       "      <th>1939</th>\n",
       "      <td>1935</td>\n",
       "      <td>30</td>\n",
       "      <td>Male</td>\n",
       "      <td>32.8</td>\n",
       "      <td>Stroke</td>\n",
       "      <td>1</td>\n",
       "      <td>1</td>\n",
       "      <td>0</td>\n",
       "      <td>0</td>\n",
       "      <td>1</td>\n",
       "      <td>...</td>\n",
       "      <td>11.0</td>\n",
       "      <td>0.7</td>\n",
       "      <td>22590</td>\n",
       "      <td>255478</td>\n",
       "      <td>8.8</td>\n",
       "      <td>1.6</td>\n",
       "      <td>0.0</td>\n",
       "      <td>Tacrolimus</td>\n",
       "      <td>2</td>\n",
       "      <td>Infection</td>\n",
       "    </tr>\n",
       "    <tr>\n",
       "      <th>1940</th>\n",
       "      <td>1936</td>\n",
       "      <td>52</td>\n",
       "      <td>Female</td>\n",
       "      <td>21.0</td>\n",
       "      <td>Other</td>\n",
       "      <td>1</td>\n",
       "      <td>0</td>\n",
       "      <td>1</td>\n",
       "      <td>1</td>\n",
       "      <td>1</td>\n",
       "      <td>...</td>\n",
       "      <td>2.4</td>\n",
       "      <td>0.3</td>\n",
       "      <td>10029</td>\n",
       "      <td>349280</td>\n",
       "      <td>5.4</td>\n",
       "      <td>4.8</td>\n",
       "      <td>0.0</td>\n",
       "      <td>Tacrolimus</td>\n",
       "      <td>5</td>\n",
       "      <td>Portal Vein Thrombosis</td>\n",
       "    </tr>\n",
       "    <tr>\n",
       "      <th>1941</th>\n",
       "      <td>1937</td>\n",
       "      <td>45</td>\n",
       "      <td>Female</td>\n",
       "      <td>24.0</td>\n",
       "      <td>Other</td>\n",
       "      <td>1</td>\n",
       "      <td>1</td>\n",
       "      <td>1</td>\n",
       "      <td>0</td>\n",
       "      <td>1</td>\n",
       "      <td>...</td>\n",
       "      <td>7.0</td>\n",
       "      <td>0.7</td>\n",
       "      <td>14516</td>\n",
       "      <td>447333</td>\n",
       "      <td>5.6</td>\n",
       "      <td>1.9</td>\n",
       "      <td>0.0</td>\n",
       "      <td>Other</td>\n",
       "      <td>5</td>\n",
       "      <td>Infection</td>\n",
       "    </tr>\n",
       "  </tbody>\n",
       "</table>\n",
       "<p>1942 rows × 37 columns</p>\n",
       "</div>"
      ],
      "text/plain": [
       "      Column1  D_Age D_Gender  D_BMI D_Cause of Death  D_Diabetes  \\\n",
       "0           0     40   Female   32.2           Stroke           1   \n",
       "1           1     45   Female   32.1            Other           0   \n",
       "2           2     21     Male   26.3         Accident           1   \n",
       "3           3     41   Female   39.3            Other           1   \n",
       "4           4     66   Female   38.4         Accident           1   \n",
       "...       ...    ...      ...    ...              ...         ...   \n",
       "1937     1934     18     Male   35.3            Other           1   \n",
       "1938     1934     18     Male   35.3            Other           1   \n",
       "1939     1935     30     Male   32.8           Stroke           1   \n",
       "1940     1936     52   Female   21.0            Other           1   \n",
       "1941     1937     45   Female   24.0            Other           1   \n",
       "\n",
       "      D_Hypertension  D_Alcohol_Abuse  D_Smoking  D_Lympochyte  ...  R Na  \\\n",
       "0                  1                1          0             0  ...   5.9   \n",
       "1                  0                0          0             1  ...   1.8   \n",
       "2                  1                0          1             1  ...  17.1   \n",
       "3                  1                1          0             1  ...  18.7   \n",
       "4                  1                1          0             0  ...   7.8   \n",
       "...              ...              ...        ...           ...  ...   ...   \n",
       "1937               0                1          0             1  ...  15.4   \n",
       "1938               0                1          0             1  ...  15.4   \n",
       "1939               1                0          0             1  ...  11.0   \n",
       "1940               0                1          1             1  ...   2.4   \n",
       "1941               1                1          0             1  ...   7.0   \n",
       "\n",
       "      R_Mg  R_WBC  R_Platelets  R_Cold_Ischemia_Time R_Warm_Ischemia_Time  \\\n",
       "0      1.5  21310       426232                   3.9                  2.1   \n",
       "1      0.3  19471       414357                   3.4                  3.0   \n",
       "2      1.4   9204       292844                   7.2                  2.8   \n",
       "3      1.3  24350       190143                  11.0                  2.5   \n",
       "4      1.2  14871       403780                   2.7                  1.5   \n",
       "...    ...    ...          ...                   ...                  ...   \n",
       "1937   0.9  21195       259229                   2.5                  1.9   \n",
       "1938   0.9  21195       259229                   2.5                  1.9   \n",
       "1939   0.7  22590       255478                   8.8                  1.6   \n",
       "1940   0.3  10029       349280                   5.4                  4.8   \n",
       "1941   0.7  14516       447333                   5.6                  1.9   \n",
       "\n",
       "      R_Blood_Transfusion  R_Immunosuppressant_Medication  \\\n",
       "0                     0.0                    Cyclosporine   \n",
       "1                     0.0                    Cyclosporine   \n",
       "2                     NaN                      Tacrolimus   \n",
       "3                     0.0                           Other   \n",
       "4                     1.0                           Other   \n",
       "...                   ...                             ...   \n",
       "1937                  0.0                           Other   \n",
       "1938                  0.0                           Other   \n",
       "1939                  0.0                      Tacrolimus   \n",
       "1940                  0.0                      Tacrolimus   \n",
       "1941                  0.0                           Other   \n",
       "\n",
       "      R_Rejection_Episodes               Complications  \n",
       "0                        3                   Infection  \n",
       "1                        1           Artery Thrombosis  \n",
       "2                        4    Post-transplant Diabetes  \n",
       "3                        0    Post-transplant Diabetes  \n",
       "4                        3           Renal Dysfunction  \n",
       "...                    ...                         ...  \n",
       "1937                     5  Primary Graft Non-function  \n",
       "1938                     5  Primary Graft Non-function  \n",
       "1939                     2                   Infection  \n",
       "1940                     5      Portal Vein Thrombosis  \n",
       "1941                     5                   Infection  \n",
       "\n",
       "[1942 rows x 37 columns]"
      ]
     },
     "execution_count": 108,
     "metadata": {},
     "output_type": "execute_result"
    }
   ],
   "source": [
    "data"
   ]
  },
  {
   "cell_type": "code",
   "execution_count": 109,
   "id": "5b4fb16e",
   "metadata": {},
   "outputs": [
    {
     "name": "stdout",
     "output_type": "stream",
     "text": [
      "   Column1  D_Age D_Gender  D_BMI D_Cause of Death  D_Diabetes  \\\n",
      "0        0     40   Female   32.2           Stroke           1   \n",
      "1        1     45   Female   32.1            Other           0   \n",
      "2        2     21     Male   26.3         Accident           1   \n",
      "3        3     41   Female   39.3            Other           1   \n",
      "4        4     66   Female   38.4         Accident           1   \n",
      "\n",
      "   D_Hypertension  D_Alcohol_Abuse  D_Smoking  D_Lympochyte  ...  R Na  R_Mg  \\\n",
      "0               1                1          0             0  ...   5.9   1.5   \n",
      "1               0                0          0             1  ...   1.8   0.3   \n",
      "2               1                0          1             1  ...  17.1   1.4   \n",
      "3               1                1          0             1  ...  18.7   1.3   \n",
      "4               1                1          0             0  ...   7.8   1.2   \n",
      "\n",
      "   R_WBC  R_Platelets  R_Cold_Ischemia_Time R_Warm_Ischemia_Time  \\\n",
      "0  21310       426232                   3.9                  2.1   \n",
      "1  19471       414357                   3.4                  3.0   \n",
      "2   9204       292844                   7.2                  2.8   \n",
      "3  24350       190143                  11.0                  2.5   \n",
      "4  14871       403780                   2.7                  1.5   \n",
      "\n",
      "   R_Blood_Transfusion  R_Immunosuppressant_Medication  R_Rejection_Episodes  \\\n",
      "0                  0.0                    Cyclosporine                     3   \n",
      "1                  0.0                    Cyclosporine                     1   \n",
      "2                  NaN                      Tacrolimus                     4   \n",
      "3                  0.0                           Other                     0   \n",
      "4                  1.0                           Other                     3   \n",
      "\n",
      "              Complications  \n",
      "0                 Infection  \n",
      "1         Artery Thrombosis  \n",
      "2  Post-transplant Diabetes  \n",
      "3  Post-transplant Diabetes  \n",
      "4         Renal Dysfunction  \n",
      "\n",
      "[5 rows x 37 columns]\n"
     ]
    }
   ],
   "source": [
    "# Explore the data\n",
    "print(data.head())  # Display the first few rows of the dataset"
   ]
  },
  {
   "cell_type": "code",
   "execution_count": 110,
   "id": "7f719944",
   "metadata": {},
   "outputs": [
    {
     "name": "stdout",
     "output_type": "stream",
     "text": [
      "(1942, 37)\n"
     ]
    }
   ],
   "source": [
    "print(data.shape)   # Print the number of rows and columns in the dataset"
   ]
  },
  {
   "cell_type": "code",
   "execution_count": 111,
   "id": "fb56168b",
   "metadata": {},
   "outputs": [
    {
     "name": "stdout",
     "output_type": "stream",
     "text": [
      "<class 'pandas.core.frame.DataFrame'>\n",
      "RangeIndex: 1942 entries, 0 to 1941\n",
      "Data columns (total 37 columns):\n",
      " #   Column                          Non-Null Count  Dtype  \n",
      "---  ------                          --------------  -----  \n",
      " 0   Column1                         1942 non-null   int64  \n",
      " 1   D_Age                           1942 non-null   int64  \n",
      " 2   D_Gender                        1942 non-null   object \n",
      " 3   D_BMI                           1942 non-null   float64\n",
      " 4   D_Cause of Death                1942 non-null   object \n",
      " 5   D_Diabetes                      1942 non-null   int64  \n",
      " 6   D_Hypertension                  1942 non-null   int64  \n",
      " 7   D_Alcohol_Abuse                 1942 non-null   int64  \n",
      " 8   D_Smoking                       1942 non-null   int64  \n",
      " 9   D_Lympochyte                    1942 non-null   int64  \n",
      " 10  D_HepatitisB                    1941 non-null   float64\n",
      " 11  D_HepatitisC                    1942 non-null   int64  \n",
      " 12  R_Etiology                      1941 non-null   object \n",
      " 13  R_MELD_Score                    1942 non-null   int64  \n",
      " 14  R_Age                           1942 non-null   int64  \n",
      " 15  R_Gender                        1941 non-null   object \n",
      " 16  R_BMI                           1941 non-null   float64\n",
      " 17  R_Diabetes                      1942 non-null   int64  \n",
      " 18  R_Hypertension                  1942 non-null   int64  \n",
      " 19  R_Alcohol_Abuse                 1942 non-null   int64  \n",
      " 20  R_Smoking                       1942 non-null   int64  \n",
      " 21  R_Lympochyte                    1941 non-null   float64\n",
      " 22  R_HepatitisB                    1942 non-null   int64  \n",
      " 23  R_HepatitisC                    1942 non-null   int64  \n",
      " 24  R_Albumin_level                 1942 non-null   int64  \n",
      " 25  R_Alcoholic_cirrhosis           1942 non-null   int64  \n",
      " 26  R_Primary_biliary_cirrhosis     1942 non-null   float64\n",
      " 27  R Na                            1942 non-null   float64\n",
      " 28  R_Mg                            1942 non-null   float64\n",
      " 29  R_WBC                           1942 non-null   int64  \n",
      " 30  R_Platelets                     1942 non-null   int64  \n",
      " 31  R_Cold_Ischemia_Time            1942 non-null   float64\n",
      " 32  R_Warm_Ischemia_Time            1942 non-null   float64\n",
      " 33  R_Blood_Transfusion             1941 non-null   float64\n",
      " 34  R_Immunosuppressant_Medication  1942 non-null   object \n",
      " 35  R_Rejection_Episodes            1942 non-null   int64  \n",
      " 36  Complications                   1942 non-null   object \n",
      "dtypes: float64(10), int64(21), object(6)\n",
      "memory usage: 561.5+ KB\n"
     ]
    }
   ],
   "source": [
    "data.info()"
   ]
  },
  {
   "cell_type": "code",
   "execution_count": 112,
   "id": "3c34dd79",
   "metadata": {},
   "outputs": [
    {
     "name": "stdout",
     "output_type": "stream",
     "text": [
      "0       False\n",
      "1       False\n",
      "2       False\n",
      "3       False\n",
      "4       False\n",
      "        ...  \n",
      "1937    False\n",
      "1938     True\n",
      "1939    False\n",
      "1940    False\n",
      "1941    False\n",
      "Length: 1942, dtype: bool\n"
     ]
    },
    {
     "data": {
      "text/plain": [
       "4"
      ]
     },
     "execution_count": 112,
     "metadata": {},
     "output_type": "execute_result"
    }
   ],
   "source": [
    "#Handling duplicates:\n",
    "duplicate = data.duplicated()  # Returns Boolean Series denoting duplicate rows.\n",
    "print(duplicate)\n",
    "sum(duplicate)"
   ]
  },
  {
   "cell_type": "code",
   "execution_count": 113,
   "id": "f82cc209",
   "metadata": {},
   "outputs": [
    {
     "data": {
      "text/html": [
       "<div>\n",
       "<style scoped>\n",
       "    .dataframe tbody tr th:only-of-type {\n",
       "        vertical-align: middle;\n",
       "    }\n",
       "\n",
       "    .dataframe tbody tr th {\n",
       "        vertical-align: top;\n",
       "    }\n",
       "\n",
       "    .dataframe thead th {\n",
       "        text-align: right;\n",
       "    }\n",
       "</style>\n",
       "<table border=\"1\" class=\"dataframe\">\n",
       "  <thead>\n",
       "    <tr style=\"text-align: right;\">\n",
       "      <th></th>\n",
       "      <th>Column1</th>\n",
       "      <th>D_Age</th>\n",
       "      <th>D_Gender</th>\n",
       "      <th>D_BMI</th>\n",
       "      <th>D_Cause of Death</th>\n",
       "      <th>D_Diabetes</th>\n",
       "      <th>D_Hypertension</th>\n",
       "      <th>D_Alcohol_Abuse</th>\n",
       "      <th>D_Smoking</th>\n",
       "      <th>D_Lympochyte</th>\n",
       "      <th>...</th>\n",
       "      <th>R Na</th>\n",
       "      <th>R_Mg</th>\n",
       "      <th>R_WBC</th>\n",
       "      <th>R_Platelets</th>\n",
       "      <th>R_Cold_Ischemia_Time</th>\n",
       "      <th>R_Warm_Ischemia_Time</th>\n",
       "      <th>R_Blood_Transfusion</th>\n",
       "      <th>R_Immunosuppressant_Medication</th>\n",
       "      <th>R_Rejection_Episodes</th>\n",
       "      <th>Complications</th>\n",
       "    </tr>\n",
       "  </thead>\n",
       "  <tbody>\n",
       "    <tr>\n",
       "      <th>0</th>\n",
       "      <td>0</td>\n",
       "      <td>40</td>\n",
       "      <td>Female</td>\n",
       "      <td>32.2</td>\n",
       "      <td>Stroke</td>\n",
       "      <td>1</td>\n",
       "      <td>1</td>\n",
       "      <td>1</td>\n",
       "      <td>0</td>\n",
       "      <td>0</td>\n",
       "      <td>...</td>\n",
       "      <td>5.9</td>\n",
       "      <td>1.5</td>\n",
       "      <td>21310</td>\n",
       "      <td>426232</td>\n",
       "      <td>3.9</td>\n",
       "      <td>2.1</td>\n",
       "      <td>0.0</td>\n",
       "      <td>Cyclosporine</td>\n",
       "      <td>3</td>\n",
       "      <td>Infection</td>\n",
       "    </tr>\n",
       "    <tr>\n",
       "      <th>1</th>\n",
       "      <td>1</td>\n",
       "      <td>45</td>\n",
       "      <td>Female</td>\n",
       "      <td>32.1</td>\n",
       "      <td>Other</td>\n",
       "      <td>0</td>\n",
       "      <td>0</td>\n",
       "      <td>0</td>\n",
       "      <td>0</td>\n",
       "      <td>1</td>\n",
       "      <td>...</td>\n",
       "      <td>1.8</td>\n",
       "      <td>0.3</td>\n",
       "      <td>19471</td>\n",
       "      <td>414357</td>\n",
       "      <td>3.4</td>\n",
       "      <td>3.0</td>\n",
       "      <td>0.0</td>\n",
       "      <td>Cyclosporine</td>\n",
       "      <td>1</td>\n",
       "      <td>Artery Thrombosis</td>\n",
       "    </tr>\n",
       "    <tr>\n",
       "      <th>2</th>\n",
       "      <td>2</td>\n",
       "      <td>21</td>\n",
       "      <td>Male</td>\n",
       "      <td>26.3</td>\n",
       "      <td>Accident</td>\n",
       "      <td>1</td>\n",
       "      <td>1</td>\n",
       "      <td>0</td>\n",
       "      <td>1</td>\n",
       "      <td>1</td>\n",
       "      <td>...</td>\n",
       "      <td>17.1</td>\n",
       "      <td>1.4</td>\n",
       "      <td>9204</td>\n",
       "      <td>292844</td>\n",
       "      <td>7.2</td>\n",
       "      <td>2.8</td>\n",
       "      <td>NaN</td>\n",
       "      <td>Tacrolimus</td>\n",
       "      <td>4</td>\n",
       "      <td>Post-transplant Diabetes</td>\n",
       "    </tr>\n",
       "    <tr>\n",
       "      <th>3</th>\n",
       "      <td>3</td>\n",
       "      <td>41</td>\n",
       "      <td>Female</td>\n",
       "      <td>39.3</td>\n",
       "      <td>Other</td>\n",
       "      <td>1</td>\n",
       "      <td>1</td>\n",
       "      <td>1</td>\n",
       "      <td>0</td>\n",
       "      <td>1</td>\n",
       "      <td>...</td>\n",
       "      <td>18.7</td>\n",
       "      <td>1.3</td>\n",
       "      <td>24350</td>\n",
       "      <td>190143</td>\n",
       "      <td>11.0</td>\n",
       "      <td>2.5</td>\n",
       "      <td>0.0</td>\n",
       "      <td>Other</td>\n",
       "      <td>0</td>\n",
       "      <td>Post-transplant Diabetes</td>\n",
       "    </tr>\n",
       "    <tr>\n",
       "      <th>4</th>\n",
       "      <td>4</td>\n",
       "      <td>66</td>\n",
       "      <td>Female</td>\n",
       "      <td>38.4</td>\n",
       "      <td>Accident</td>\n",
       "      <td>1</td>\n",
       "      <td>1</td>\n",
       "      <td>1</td>\n",
       "      <td>0</td>\n",
       "      <td>0</td>\n",
       "      <td>...</td>\n",
       "      <td>7.8</td>\n",
       "      <td>1.2</td>\n",
       "      <td>14871</td>\n",
       "      <td>403780</td>\n",
       "      <td>2.7</td>\n",
       "      <td>1.5</td>\n",
       "      <td>1.0</td>\n",
       "      <td>Other</td>\n",
       "      <td>3</td>\n",
       "      <td>Renal Dysfunction</td>\n",
       "    </tr>\n",
       "    <tr>\n",
       "      <th>...</th>\n",
       "      <td>...</td>\n",
       "      <td>...</td>\n",
       "      <td>...</td>\n",
       "      <td>...</td>\n",
       "      <td>...</td>\n",
       "      <td>...</td>\n",
       "      <td>...</td>\n",
       "      <td>...</td>\n",
       "      <td>...</td>\n",
       "      <td>...</td>\n",
       "      <td>...</td>\n",
       "      <td>...</td>\n",
       "      <td>...</td>\n",
       "      <td>...</td>\n",
       "      <td>...</td>\n",
       "      <td>...</td>\n",
       "      <td>...</td>\n",
       "      <td>...</td>\n",
       "      <td>...</td>\n",
       "      <td>...</td>\n",
       "      <td>...</td>\n",
       "    </tr>\n",
       "    <tr>\n",
       "      <th>1936</th>\n",
       "      <td>1933</td>\n",
       "      <td>49</td>\n",
       "      <td>Female</td>\n",
       "      <td>28.0</td>\n",
       "      <td>Accident</td>\n",
       "      <td>0</td>\n",
       "      <td>1</td>\n",
       "      <td>0</td>\n",
       "      <td>0</td>\n",
       "      <td>1</td>\n",
       "      <td>...</td>\n",
       "      <td>7.8</td>\n",
       "      <td>0.0</td>\n",
       "      <td>14412</td>\n",
       "      <td>235741</td>\n",
       "      <td>8.6</td>\n",
       "      <td>1.0</td>\n",
       "      <td>0.0</td>\n",
       "      <td>Cyclosporine</td>\n",
       "      <td>0</td>\n",
       "      <td>Biliary Complications</td>\n",
       "    </tr>\n",
       "    <tr>\n",
       "      <th>1937</th>\n",
       "      <td>1934</td>\n",
       "      <td>18</td>\n",
       "      <td>Male</td>\n",
       "      <td>35.3</td>\n",
       "      <td>Other</td>\n",
       "      <td>1</td>\n",
       "      <td>0</td>\n",
       "      <td>1</td>\n",
       "      <td>0</td>\n",
       "      <td>1</td>\n",
       "      <td>...</td>\n",
       "      <td>15.4</td>\n",
       "      <td>0.9</td>\n",
       "      <td>21195</td>\n",
       "      <td>259229</td>\n",
       "      <td>2.5</td>\n",
       "      <td>1.9</td>\n",
       "      <td>0.0</td>\n",
       "      <td>Other</td>\n",
       "      <td>5</td>\n",
       "      <td>Primary Graft Non-function</td>\n",
       "    </tr>\n",
       "    <tr>\n",
       "      <th>1939</th>\n",
       "      <td>1935</td>\n",
       "      <td>30</td>\n",
       "      <td>Male</td>\n",
       "      <td>32.8</td>\n",
       "      <td>Stroke</td>\n",
       "      <td>1</td>\n",
       "      <td>1</td>\n",
       "      <td>0</td>\n",
       "      <td>0</td>\n",
       "      <td>1</td>\n",
       "      <td>...</td>\n",
       "      <td>11.0</td>\n",
       "      <td>0.7</td>\n",
       "      <td>22590</td>\n",
       "      <td>255478</td>\n",
       "      <td>8.8</td>\n",
       "      <td>1.6</td>\n",
       "      <td>0.0</td>\n",
       "      <td>Tacrolimus</td>\n",
       "      <td>2</td>\n",
       "      <td>Infection</td>\n",
       "    </tr>\n",
       "    <tr>\n",
       "      <th>1940</th>\n",
       "      <td>1936</td>\n",
       "      <td>52</td>\n",
       "      <td>Female</td>\n",
       "      <td>21.0</td>\n",
       "      <td>Other</td>\n",
       "      <td>1</td>\n",
       "      <td>0</td>\n",
       "      <td>1</td>\n",
       "      <td>1</td>\n",
       "      <td>1</td>\n",
       "      <td>...</td>\n",
       "      <td>2.4</td>\n",
       "      <td>0.3</td>\n",
       "      <td>10029</td>\n",
       "      <td>349280</td>\n",
       "      <td>5.4</td>\n",
       "      <td>4.8</td>\n",
       "      <td>0.0</td>\n",
       "      <td>Tacrolimus</td>\n",
       "      <td>5</td>\n",
       "      <td>Portal Vein Thrombosis</td>\n",
       "    </tr>\n",
       "    <tr>\n",
       "      <th>1941</th>\n",
       "      <td>1937</td>\n",
       "      <td>45</td>\n",
       "      <td>Female</td>\n",
       "      <td>24.0</td>\n",
       "      <td>Other</td>\n",
       "      <td>1</td>\n",
       "      <td>1</td>\n",
       "      <td>1</td>\n",
       "      <td>0</td>\n",
       "      <td>1</td>\n",
       "      <td>...</td>\n",
       "      <td>7.0</td>\n",
       "      <td>0.7</td>\n",
       "      <td>14516</td>\n",
       "      <td>447333</td>\n",
       "      <td>5.6</td>\n",
       "      <td>1.9</td>\n",
       "      <td>0.0</td>\n",
       "      <td>Other</td>\n",
       "      <td>5</td>\n",
       "      <td>Infection</td>\n",
       "    </tr>\n",
       "  </tbody>\n",
       "</table>\n",
       "<p>1938 rows × 37 columns</p>\n",
       "</div>"
      ],
      "text/plain": [
       "      Column1  D_Age D_Gender  D_BMI D_Cause of Death  D_Diabetes  \\\n",
       "0           0     40   Female   32.2           Stroke           1   \n",
       "1           1     45   Female   32.1            Other           0   \n",
       "2           2     21     Male   26.3         Accident           1   \n",
       "3           3     41   Female   39.3            Other           1   \n",
       "4           4     66   Female   38.4         Accident           1   \n",
       "...       ...    ...      ...    ...              ...         ...   \n",
       "1936     1933     49   Female   28.0         Accident           0   \n",
       "1937     1934     18     Male   35.3            Other           1   \n",
       "1939     1935     30     Male   32.8           Stroke           1   \n",
       "1940     1936     52   Female   21.0            Other           1   \n",
       "1941     1937     45   Female   24.0            Other           1   \n",
       "\n",
       "      D_Hypertension  D_Alcohol_Abuse  D_Smoking  D_Lympochyte  ...  R Na  \\\n",
       "0                  1                1          0             0  ...   5.9   \n",
       "1                  0                0          0             1  ...   1.8   \n",
       "2                  1                0          1             1  ...  17.1   \n",
       "3                  1                1          0             1  ...  18.7   \n",
       "4                  1                1          0             0  ...   7.8   \n",
       "...              ...              ...        ...           ...  ...   ...   \n",
       "1936               1                0          0             1  ...   7.8   \n",
       "1937               0                1          0             1  ...  15.4   \n",
       "1939               1                0          0             1  ...  11.0   \n",
       "1940               0                1          1             1  ...   2.4   \n",
       "1941               1                1          0             1  ...   7.0   \n",
       "\n",
       "      R_Mg  R_WBC  R_Platelets  R_Cold_Ischemia_Time R_Warm_Ischemia_Time  \\\n",
       "0      1.5  21310       426232                   3.9                  2.1   \n",
       "1      0.3  19471       414357                   3.4                  3.0   \n",
       "2      1.4   9204       292844                   7.2                  2.8   \n",
       "3      1.3  24350       190143                  11.0                  2.5   \n",
       "4      1.2  14871       403780                   2.7                  1.5   \n",
       "...    ...    ...          ...                   ...                  ...   \n",
       "1936   0.0  14412       235741                   8.6                  1.0   \n",
       "1937   0.9  21195       259229                   2.5                  1.9   \n",
       "1939   0.7  22590       255478                   8.8                  1.6   \n",
       "1940   0.3  10029       349280                   5.4                  4.8   \n",
       "1941   0.7  14516       447333                   5.6                  1.9   \n",
       "\n",
       "      R_Blood_Transfusion  R_Immunosuppressant_Medication  \\\n",
       "0                     0.0                    Cyclosporine   \n",
       "1                     0.0                    Cyclosporine   \n",
       "2                     NaN                      Tacrolimus   \n",
       "3                     0.0                           Other   \n",
       "4                     1.0                           Other   \n",
       "...                   ...                             ...   \n",
       "1936                  0.0                    Cyclosporine   \n",
       "1937                  0.0                           Other   \n",
       "1939                  0.0                      Tacrolimus   \n",
       "1940                  0.0                      Tacrolimus   \n",
       "1941                  0.0                           Other   \n",
       "\n",
       "      R_Rejection_Episodes               Complications  \n",
       "0                        3                   Infection  \n",
       "1                        1           Artery Thrombosis  \n",
       "2                        4    Post-transplant Diabetes  \n",
       "3                        0    Post-transplant Diabetes  \n",
       "4                        3           Renal Dysfunction  \n",
       "...                    ...                         ...  \n",
       "1936                     0       Biliary Complications  \n",
       "1937                     5  Primary Graft Non-function  \n",
       "1939                     2                   Infection  \n",
       "1940                     5      Portal Vein Thrombosis  \n",
       "1941                     5                   Infection  \n",
       "\n",
       "[1938 rows x 37 columns]"
      ]
     },
     "execution_count": 113,
     "metadata": {},
     "output_type": "execute_result"
    }
   ],
   "source": [
    "# Removing Duplicates\n",
    "\n",
    "data = data.drop_duplicates() # Returns DataFrame with duplicate rows removed.\n",
    "data"
   ]
  },
  {
   "cell_type": "code",
   "execution_count": 114,
   "id": "d953f86d",
   "metadata": {},
   "outputs": [
    {
     "data": {
      "text/plain": [
       "Column1                           0\n",
       "D_Age                             0\n",
       "D_Gender                          0\n",
       "D_BMI                             0\n",
       "D_Cause of Death                  0\n",
       "D_Diabetes                        0\n",
       "D_Hypertension                    0\n",
       "D_Alcohol_Abuse                   0\n",
       "D_Smoking                         0\n",
       "D_Lympochyte                      0\n",
       "D_HepatitisB                      1\n",
       "D_HepatitisC                      0\n",
       "R_Etiology                        1\n",
       "R_MELD_Score                      0\n",
       "R_Age                             0\n",
       "R_Gender                          1\n",
       "R_BMI                             1\n",
       "R_Diabetes                        0\n",
       "R_Hypertension                    0\n",
       "R_Alcohol_Abuse                   0\n",
       "R_Smoking                         0\n",
       "R_Lympochyte                      1\n",
       "R_HepatitisB                      0\n",
       "R_HepatitisC                      0\n",
       "R_Albumin_level                   0\n",
       "R_Alcoholic_cirrhosis             0\n",
       "R_Primary_biliary_cirrhosis       0\n",
       "R Na                              0\n",
       "R_Mg                              0\n",
       "R_WBC                             0\n",
       "R_Platelets                       0\n",
       "R_Cold_Ischemia_Time              0\n",
       "R_Warm_Ischemia_Time              0\n",
       "R_Blood_Transfusion               1\n",
       "R_Immunosuppressant_Medication    0\n",
       "R_Rejection_Episodes              0\n",
       "Complications                     0\n",
       "dtype: int64"
      ]
     },
     "execution_count": 114,
     "metadata": {},
     "output_type": "execute_result"
    }
   ],
   "source": [
    "#Checking Null Values\n",
    "\n",
    "data.isna().sum()"
   ]
  },
  {
   "cell_type": "code",
   "execution_count": 115,
   "id": "fcb97c40",
   "metadata": {},
   "outputs": [],
   "source": [
    "# Replace NaN values with a specific value\n",
    "data = data.fillna(0)"
   ]
  },
  {
   "cell_type": "code",
   "execution_count": 116,
   "id": "f8bc6236",
   "metadata": {},
   "outputs": [
    {
     "data": {
      "text/plain": [
       "Column1                           0\n",
       "D_Age                             0\n",
       "D_Gender                          0\n",
       "D_BMI                             0\n",
       "D_Cause of Death                  0\n",
       "D_Diabetes                        0\n",
       "D_Hypertension                    0\n",
       "D_Alcohol_Abuse                   0\n",
       "D_Smoking                         0\n",
       "D_Lympochyte                      0\n",
       "D_HepatitisB                      0\n",
       "D_HepatitisC                      0\n",
       "R_Etiology                        0\n",
       "R_MELD_Score                      0\n",
       "R_Age                             0\n",
       "R_Gender                          0\n",
       "R_BMI                             0\n",
       "R_Diabetes                        0\n",
       "R_Hypertension                    0\n",
       "R_Alcohol_Abuse                   0\n",
       "R_Smoking                         0\n",
       "R_Lympochyte                      0\n",
       "R_HepatitisB                      0\n",
       "R_HepatitisC                      0\n",
       "R_Albumin_level                   0\n",
       "R_Alcoholic_cirrhosis             0\n",
       "R_Primary_biliary_cirrhosis       0\n",
       "R Na                              0\n",
       "R_Mg                              0\n",
       "R_WBC                             0\n",
       "R_Platelets                       0\n",
       "R_Cold_Ischemia_Time              0\n",
       "R_Warm_Ischemia_Time              0\n",
       "R_Blood_Transfusion               0\n",
       "R_Immunosuppressant_Medication    0\n",
       "R_Rejection_Episodes              0\n",
       "Complications                     0\n",
       "dtype: int64"
      ]
     },
     "execution_count": 116,
     "metadata": {},
     "output_type": "execute_result"
    }
   ],
   "source": [
    "#Checking Null Values\n",
    "data.isna().sum()"
   ]
  },
  {
   "cell_type": "code",
   "execution_count": 117,
   "id": "3fedb782",
   "metadata": {},
   "outputs": [
    {
     "name": "stdout",
     "output_type": "stream",
     "text": [
      "<class 'pandas.core.frame.DataFrame'>\n",
      "Int64Index: 1938 entries, 0 to 1941\n",
      "Data columns (total 37 columns):\n",
      " #   Column                          Non-Null Count  Dtype  \n",
      "---  ------                          --------------  -----  \n",
      " 0   Column1                         1938 non-null   int64  \n",
      " 1   D_Age                           1938 non-null   int64  \n",
      " 2   D_Gender                        1938 non-null   object \n",
      " 3   D_BMI                           1938 non-null   float64\n",
      " 4   D_Cause of Death                1938 non-null   object \n",
      " 5   D_Diabetes                      1938 non-null   int64  \n",
      " 6   D_Hypertension                  1938 non-null   int64  \n",
      " 7   D_Alcohol_Abuse                 1938 non-null   int64  \n",
      " 8   D_Smoking                       1938 non-null   int64  \n",
      " 9   D_Lympochyte                    1938 non-null   int64  \n",
      " 10  D_HepatitisB                    1938 non-null   float64\n",
      " 11  D_HepatitisC                    1938 non-null   int64  \n",
      " 12  R_Etiology                      1938 non-null   object \n",
      " 13  R_MELD_Score                    1938 non-null   int64  \n",
      " 14  R_Age                           1938 non-null   int64  \n",
      " 15  R_Gender                        1938 non-null   object \n",
      " 16  R_BMI                           1938 non-null   float64\n",
      " 17  R_Diabetes                      1938 non-null   int64  \n",
      " 18  R_Hypertension                  1938 non-null   int64  \n",
      " 19  R_Alcohol_Abuse                 1938 non-null   int64  \n",
      " 20  R_Smoking                       1938 non-null   int64  \n",
      " 21  R_Lympochyte                    1938 non-null   float64\n",
      " 22  R_HepatitisB                    1938 non-null   int64  \n",
      " 23  R_HepatitisC                    1938 non-null   int64  \n",
      " 24  R_Albumin_level                 1938 non-null   int64  \n",
      " 25  R_Alcoholic_cirrhosis           1938 non-null   int64  \n",
      " 26  R_Primary_biliary_cirrhosis     1938 non-null   float64\n",
      " 27  R Na                            1938 non-null   float64\n",
      " 28  R_Mg                            1938 non-null   float64\n",
      " 29  R_WBC                           1938 non-null   int64  \n",
      " 30  R_Platelets                     1938 non-null   int64  \n",
      " 31  R_Cold_Ischemia_Time            1938 non-null   float64\n",
      " 32  R_Warm_Ischemia_Time            1938 non-null   float64\n",
      " 33  R_Blood_Transfusion             1938 non-null   float64\n",
      " 34  R_Immunosuppressant_Medication  1938 non-null   object \n",
      " 35  R_Rejection_Episodes            1938 non-null   int64  \n",
      " 36  Complications                   1938 non-null   object \n",
      "dtypes: float64(10), int64(21), object(6)\n",
      "memory usage: 575.3+ KB\n"
     ]
    }
   ],
   "source": [
    "data.info()"
   ]
  },
  {
   "cell_type": "markdown",
   "id": "8e72a9b9",
   "metadata": {},
   "source": [
    "#### Encoding Categorical Variables (Label Encoding)"
   ]
  },
  {
   "cell_type": "code",
   "execution_count": 118,
   "id": "2c880809",
   "metadata": {},
   "outputs": [],
   "source": [
    "from sklearn.preprocessing import LabelEncoder\n",
    "\n",
    "# Assuming 'Gender' is the column containing categorical values\n",
    "label_encoder = LabelEncoder()\n",
    "data['D_Gender'] = label_encoder.fit_transform(data['D_Gender'])"
   ]
  },
  {
   "cell_type": "code",
   "execution_count": 119,
   "id": "91e04770",
   "metadata": {},
   "outputs": [],
   "source": [
    "# Assuming 'D_Cause of Death' is the column containing categorical values\n",
    "data['D_Cause of Death'] = label_encoder.fit_transform(data['D_Cause of Death'])"
   ]
  },
  {
   "cell_type": "code",
   "execution_count": 120,
   "id": "5c0415dd",
   "metadata": {},
   "outputs": [],
   "source": [
    "# Assuming 'R_Etiology' is the column containing mixed integer and string values\n",
    "data['R_Etiology'] = data['R_Etiology'].astype(str)\n",
    "\n",
    "label_encoder = LabelEncoder()\n",
    "data['R_Etiology'] = label_encoder.fit_transform(data['R_Etiology'])"
   ]
  },
  {
   "cell_type": "code",
   "execution_count": 121,
   "id": "b64b29c3",
   "metadata": {},
   "outputs": [],
   "source": [
    "# Assuming 'R_Gender' is the column containing mixed integer and string values\n",
    "data['R_Gender'] = data['R_Gender'].astype(str)\n",
    "\n",
    "label_encoder = LabelEncoder()\n",
    "data['R_Gender'] = label_encoder.fit_transform(data['R_Gender'])"
   ]
  },
  {
   "cell_type": "code",
   "execution_count": 122,
   "id": "63765809",
   "metadata": {},
   "outputs": [],
   "source": [
    "# Assuming 'R_Immunosuppressant_Medication' is the column containing mixed integer and string values\n",
    "data['R_Immunosuppressant_Medication'] = data['R_Immunosuppressant_Medication'].astype(str)\n",
    "\n",
    "label_encoder = LabelEncoder()\n",
    "data['R_Immunosuppressant_Medication'] = label_encoder.fit_transform(data['R_Immunosuppressant_Medication'])"
   ]
  },
  {
   "cell_type": "code",
   "execution_count": 123,
   "id": "626f0e83",
   "metadata": {},
   "outputs": [],
   "source": [
    "# Assuming 'Complications' is the column containing categorical values\n",
    "data['Complications'] = label_encoder.fit_transform(data['Complications'])"
   ]
  },
  {
   "cell_type": "code",
   "execution_count": 124,
   "id": "d80ab20a",
   "metadata": {},
   "outputs": [
    {
     "name": "stdout",
     "output_type": "stream",
     "text": [
      "<class 'pandas.core.frame.DataFrame'>\n",
      "Int64Index: 1938 entries, 0 to 1941\n",
      "Data columns (total 37 columns):\n",
      " #   Column                          Non-Null Count  Dtype  \n",
      "---  ------                          --------------  -----  \n",
      " 0   Column1                         1938 non-null   int64  \n",
      " 1   D_Age                           1938 non-null   int64  \n",
      " 2   D_Gender                        1938 non-null   int32  \n",
      " 3   D_BMI                           1938 non-null   float64\n",
      " 4   D_Cause of Death                1938 non-null   int32  \n",
      " 5   D_Diabetes                      1938 non-null   int64  \n",
      " 6   D_Hypertension                  1938 non-null   int64  \n",
      " 7   D_Alcohol_Abuse                 1938 non-null   int64  \n",
      " 8   D_Smoking                       1938 non-null   int64  \n",
      " 9   D_Lympochyte                    1938 non-null   int64  \n",
      " 10  D_HepatitisB                    1938 non-null   float64\n",
      " 11  D_HepatitisC                    1938 non-null   int64  \n",
      " 12  R_Etiology                      1938 non-null   int32  \n",
      " 13  R_MELD_Score                    1938 non-null   int64  \n",
      " 14  R_Age                           1938 non-null   int64  \n",
      " 15  R_Gender                        1938 non-null   int32  \n",
      " 16  R_BMI                           1938 non-null   float64\n",
      " 17  R_Diabetes                      1938 non-null   int64  \n",
      " 18  R_Hypertension                  1938 non-null   int64  \n",
      " 19  R_Alcohol_Abuse                 1938 non-null   int64  \n",
      " 20  R_Smoking                       1938 non-null   int64  \n",
      " 21  R_Lympochyte                    1938 non-null   float64\n",
      " 22  R_HepatitisB                    1938 non-null   int64  \n",
      " 23  R_HepatitisC                    1938 non-null   int64  \n",
      " 24  R_Albumin_level                 1938 non-null   int64  \n",
      " 25  R_Alcoholic_cirrhosis           1938 non-null   int64  \n",
      " 26  R_Primary_biliary_cirrhosis     1938 non-null   float64\n",
      " 27  R Na                            1938 non-null   float64\n",
      " 28  R_Mg                            1938 non-null   float64\n",
      " 29  R_WBC                           1938 non-null   int64  \n",
      " 30  R_Platelets                     1938 non-null   int64  \n",
      " 31  R_Cold_Ischemia_Time            1938 non-null   float64\n",
      " 32  R_Warm_Ischemia_Time            1938 non-null   float64\n",
      " 33  R_Blood_Transfusion             1938 non-null   float64\n",
      " 34  R_Immunosuppressant_Medication  1938 non-null   int32  \n",
      " 35  R_Rejection_Episodes            1938 non-null   int64  \n",
      " 36  Complications                   1938 non-null   int32  \n",
      "dtypes: float64(10), int32(6), int64(21)\n",
      "memory usage: 529.9 KB\n"
     ]
    }
   ],
   "source": [
    "data.info()"
   ]
  },
  {
   "cell_type": "code",
   "execution_count": 126,
   "id": "df393eb2",
   "metadata": {},
   "outputs": [],
   "source": [
    "# Separate features and target variable\n",
    "X = data.drop('Complications', axis=1)\n",
    "y = data['Complications']"
   ]
  },
  {
   "cell_type": "code",
   "execution_count": 127,
   "id": "47ed6a39",
   "metadata": {},
   "outputs": [
    {
     "data": {
      "text/plain": [
       "<AxesSubplot: ylabel='Complications'>"
      ]
     },
     "execution_count": 127,
     "metadata": {},
     "output_type": "execute_result"
    },
    {
     "data": {
      "image/png": "[encoded data removed]",
      "text/plain": [
       "<Figure size 640x480 with 1 Axes>"
      ]
     },
     "metadata": {},
     "output_type": "display_data"
    }
   ],
   "source": [
    "# Class distribution\n",
    "y.value_counts()\n",
    "y.value_counts().plot.pie(autopct = '%.2f')"
   ]
  },
  {
   "cell_type": "code",
   "execution_count": 128,
   "id": "87a0fb37",
   "metadata": {},
   "outputs": [],
   "source": [
    "#SMOTE (Synthetic Minority Over-sampling Technique) is a popular algorithm used for oversampling imbalanced datasets in machine learning.\n",
    "from imblearn.over_sampling import SMOTE"
   ]
  },
  {
   "cell_type": "code",
   "execution_count": 129,
   "id": "86eaa23f",
   "metadata": {},
   "outputs": [],
   "source": [
    "# Apply SMOTE to handle imbalanced data\n",
    "# Assuming X and y are your feature and target variables\n",
    "smote = SMOTE(random_state=42)\n",
    "X_resampled, y_resampled = smote.fit_resample(X, y)"
   ]
  },
  {
   "cell_type": "code",
   "execution_count": 130,
   "id": "6f677444",
   "metadata": {},
   "outputs": [
    {
     "data": {
      "image/png": "[encoded data removed]",
      "text/plain": [
       "<Figure size 640x480 with 1 Axes>"
      ]
     },
     "metadata": {},
     "output_type": "display_data"
    }
   ],
   "source": [
    "# Count the number of samples in each class after SMOTE\n",
    "class_counts_after_smote = pd.Series(y_resampled.value_counts(), name='Counts After SMOTE')\n",
    "\n",
    "# Plot the target variable distribution after SMOTE\n",
    "plt.title('Target Variable Distribution After SMOTE')\n",
    "class_counts_after_smote.plot.pie(autopct='%.2f%%')\n",
    "plt.ylabel('')\n",
    "plt.show()"
   ]
  },
  {
   "cell_type": "code",
   "execution_count": 131,
   "id": "9d3cdad1",
   "metadata": {},
   "outputs": [],
   "source": [
    "from sklearn.model_selection import train_test_split\n",
    "\n",
    "# Assuming X_resampled and y_resampled are your resampled feature and target variables\n",
    "X_train, X_test, y_train, y_test = train_test_split(X_resampled, y_resampled, test_size=0.2, random_state=42)"
   ]
  },
  {
   "cell_type": "code",
   "execution_count": 132,
   "id": "a01e838e",
   "metadata": {},
   "outputs": [],
   "source": [
    "from sklearn.ensemble import RandomForestClassifier\n",
    "from sklearn.model_selection import GridSearchCV"
   ]
  },
  {
   "cell_type": "code",
   "execution_count": 133,
   "id": "7ef75a18",
   "metadata": {},
   "outputs": [],
   "source": [
    "# Define the model and parameter grid for hyperparameter tuning\n",
    "model = RandomForestClassifier()\n",
    "param_grid = {\n",
    "    'bootstrap': [True],\n",
    "    'max_depth': [80, 90, 100, 110],\n",
    "    'max_features': [2, 3],\n",
    "    'min_samples_leaf': [3, 4, 5],\n",
    "    'min_samples_split': [8, 10, 12],\n",
    "    'n_estimators': [100, 200, 300, 1000]\n",
    "}"
   ]
  },
  {
   "cell_type": "code",
   "execution_count": 134,
   "id": "833899c9",
   "metadata": {},
   "outputs": [],
   "source": [
    "# Define and initialize the random forest classifier\n",
    "rf = RandomForestClassifier()"
   ]
  },
  {
   "cell_type": "code",
   "execution_count": 135,
   "id": "a50abf5c",
   "metadata": {},
   "outputs": [],
   "source": [
    "# Instantiate the grid search model\n",
    "# Perform grid search cross-validation for hyperparameter tuning\n",
    "grid_search = GridSearchCV(estimator = rf, param_grid = param_grid, \n",
    "                          cv = 3, n_jobs = -1, verbose = 2)"
   ]
  },
  {
   "cell_type": "code",
   "execution_count": 136,
   "id": "8d846f7b",
   "metadata": {},
   "outputs": [
    {
     "name": "stdout",
     "output_type": "stream",
     "text": [
      "Fitting 3 folds for each of 288 candidates, totalling 864 fits\n"
     ]
    },
    {
     "data": {
      "text/html": [
       "<style>#sk-container-id-4 {color: black;background-color: white;}#sk-container-id-4 pre{padding: 0;}#sk-container-id-4 div.sk-toggleable {background-color: white;}#sk-container-id-4 label.sk-toggleable__label {cursor: pointer;display: block;width: 100%;margin-bottom: 0;padding: 0.3em;box-sizing: border-box;text-align: center;}#sk-container-id-4 label.sk-toggleable__label-arrow:before {content: \"▸\";float: left;margin-right: 0.25em;color: #696969;}#sk-container-id-4 label.sk-toggleable__label-arrow:hover:before {color: black;}#sk-container-id-4 div.sk-estimator:hover label.sk-toggleable__label-arrow:before {color: black;}#sk-container-id-4 div.sk-toggleable__content {max-height: 0;max-width: 0;overflow: hidden;text-align: left;background-color: #f0f8ff;}#sk-container-id-4 div.sk-toggleable__content pre {margin: 0.2em;color: black;border-radius: 0.25em;background-color: #f0f8ff;}#sk-container-id-4 input.sk-toggleable__control:checked~div.sk-toggleable__content {max-height: 200px;max-width: 100%;overflow: auto;}#sk-container-id-4 input.sk-toggleable__control:checked~label.sk-toggleable__label-arrow:before {content: \"▾\";}#sk-container-id-4 div.sk-estimator input.sk-toggleable__control:checked~label.sk-toggleable__label {background-color: #d4ebff;}#sk-container-id-4 div.sk-label input.sk-toggleable__control:checked~label.sk-toggleable__label {background-color: #d4ebff;}#sk-container-id-4 input.sk-hidden--visually {border: 0;clip: rect(1px 1px 1px 1px);clip: rect(1px, 1px, 1px, 1px);height: 1px;margin: -1px;overflow: hidden;padding: 0;position: absolute;width: 1px;}#sk-container-id-4 div.sk-estimator {font-family: monospace;background-color: #f0f8ff;border: 1px dotted black;border-radius: 0.25em;box-sizing: border-box;margin-bottom: 0.5em;}#sk-container-id-4 div.sk-estimator:hover {background-color: #d4ebff;}#sk-container-id-4 div.sk-parallel-item::after {content: \"\";width: 100%;border-bottom: 1px solid gray;flex-grow: 1;}#sk-container-id-4 div.sk-label:hover label.sk-toggleable__label {background-color: #d4ebff;}#sk-container-id-4 div.sk-serial::before {content: \"\";position: absolute;border-left: 1px solid gray;box-sizing: border-box;top: 0;bottom: 0;left: 50%;z-index: 0;}#sk-container-id-4 div.sk-serial {display: flex;flex-direction: column;align-items: center;background-color: white;padding-right: 0.2em;padding-left: 0.2em;position: relative;}#sk-container-id-4 div.sk-item {position: relative;z-index: 1;}#sk-container-id-4 div.sk-parallel {display: flex;align-items: stretch;justify-content: center;background-color: white;position: relative;}#sk-container-id-4 div.sk-item::before, #sk-container-id-4 div.sk-parallel-item::before {content: \"\";position: absolute;border-left: 1px solid gray;box-sizing: border-box;top: 0;bottom: 0;left: 50%;z-index: -1;}#sk-container-id-4 div.sk-parallel-item {display: flex;flex-direction: column;z-index: 1;position: relative;background-color: white;}#sk-container-id-4 div.sk-parallel-item:first-child::after {align-self: flex-end;width: 50%;}#sk-container-id-4 div.sk-parallel-item:last-child::after {align-self: flex-start;width: 50%;}#sk-container-id-4 div.sk-parallel-item:only-child::after {width: 0;}#sk-container-id-4 div.sk-dashed-wrapped {border: 1px dashed gray;margin: 0 0.4em 0.5em 0.4em;box-sizing: border-box;padding-bottom: 0.4em;background-color: white;}#sk-container-id-4 div.sk-label label {font-family: monospace;font-weight: bold;display: inline-block;line-height: 1.2em;}#sk-container-id-4 div.sk-label-container {text-align: center;}#sk-container-id-4 div.sk-container {/* jupyter's `normalize.less` sets `[hidden] { display: none; }` but bootstrap.min.css set `[hidden] { display: none !important; }` so we also need the `!important` here to be able to override the default hidden behavior on the sphinx rendered scikit-learn.org. See: https://github.com/scikit-learn/scikit-learn/issues/21755 */display: inline-block !important;position: relative;}#sk-container-id-4 div.sk-text-repr-fallback {display: none;}</style><div id=\"sk-container-id-4\" class=\"sk-top-container\"><div class=\"sk-text-repr-fallback\"><pre>GridSearchCV(cv=3, estimator=RandomForestClassifier(), n_jobs=-1,\n",
       "             param_grid={&#x27;bootstrap&#x27;: [True], &#x27;max_depth&#x27;: [80, 90, 100, 110],\n",
       "                         &#x27;max_features&#x27;: [2, 3], &#x27;min_samples_leaf&#x27;: [3, 4, 5],\n",
       "                         &#x27;min_samples_split&#x27;: [8, 10, 12],\n",
       "                         &#x27;n_estimators&#x27;: [100, 200, 300, 1000]},\n",
       "             verbose=2)</pre><b>In a Jupyter environment, please rerun this cell to show the HTML representation or trust the notebook. <br />On GitHub, the HTML representation is unable to render, please try loading this page with nbviewer.org.</b></div><div class=\"sk-container\" hidden><div class=\"sk-item sk-dashed-wrapped\"><div class=\"sk-label-container\"><div class=\"sk-label sk-toggleable\"><input class=\"sk-toggleable__control sk-hidden--visually\" id=\"sk-estimator-id-6\" type=\"checkbox\" ><label for=\"sk-estimator-id-6\" class=\"sk-toggleable__label sk-toggleable__label-arrow\">GridSearchCV</label><div class=\"sk-toggleable__content\"><pre>GridSearchCV(cv=3, estimator=RandomForestClassifier(), n_jobs=-1,\n",
       "             param_grid={&#x27;bootstrap&#x27;: [True], &#x27;max_depth&#x27;: [80, 90, 100, 110],\n",
       "                         &#x27;max_features&#x27;: [2, 3], &#x27;min_samples_leaf&#x27;: [3, 4, 5],\n",
       "                         &#x27;min_samples_split&#x27;: [8, 10, 12],\n",
       "                         &#x27;n_estimators&#x27;: [100, 200, 300, 1000]},\n",
       "             verbose=2)</pre></div></div></div><div class=\"sk-parallel\"><div class=\"sk-parallel-item\"><div class=\"sk-item\"><div class=\"sk-label-container\"><div class=\"sk-label sk-toggleable\"><input class=\"sk-toggleable__control sk-hidden--visually\" id=\"sk-estimator-id-7\" type=\"checkbox\" ><label for=\"sk-estimator-id-7\" class=\"sk-toggleable__label sk-toggleable__label-arrow\">estimator: RandomForestClassifier</label><div class=\"sk-toggleable__content\"><pre>RandomForestClassifier()</pre></div></div></div><div class=\"sk-serial\"><div class=\"sk-item\"><div class=\"sk-estimator sk-toggleable\"><input class=\"sk-toggleable__control sk-hidden--visually\" id=\"sk-estimator-id-8\" type=\"checkbox\" ><label for=\"sk-estimator-id-8\" class=\"sk-toggleable__label sk-toggleable__label-arrow\">RandomForestClassifier</label><div class=\"sk-toggleable__content\"><pre>RandomForestClassifier()</pre></div></div></div></div></div></div></div></div></div></div>"
      ],
      "text/plain": [
       "GridSearchCV(cv=3, estimator=RandomForestClassifier(), n_jobs=-1,\n",
       "             param_grid={'bootstrap': [True], 'max_depth': [80, 90, 100, 110],\n",
       "                         'max_features': [2, 3], 'min_samples_leaf': [3, 4, 5],\n",
       "                         'min_samples_split': [8, 10, 12],\n",
       "                         'n_estimators': [100, 200, 300, 1000]},\n",
       "             verbose=2)"
      ]
     },
     "execution_count": 136,
     "metadata": {},
     "output_type": "execute_result"
    }
   ],
   "source": [
    "# Fit the grid search to the data\n",
    "grid_search.fit(X_train, y_train)"
   ]
  },
  {
   "cell_type": "code",
   "execution_count": 137,
   "id": "7f3c6624",
   "metadata": {},
   "outputs": [],
   "source": [
    "# Get the best hyperparameters\n",
    "best_params = grid_search.best_params_"
   ]
  },
  {
   "cell_type": "code",
   "execution_count": 138,
   "id": "7afd7cea",
   "metadata": {},
   "outputs": [
    {
     "data": {
      "text/html": [
       "<style>#sk-container-id-5 {color: black;background-color: white;}#sk-container-id-5 pre{padding: 0;}#sk-container-id-5 div.sk-toggleable {background-color: white;}#sk-container-id-5 label.sk-toggleable__label {cursor: pointer;display: block;width: 100%;margin-bottom: 0;padding: 0.3em;box-sizing: border-box;text-align: center;}#sk-container-id-5 label.sk-toggleable__label-arrow:before {content: \"▸\";float: left;margin-right: 0.25em;color: #696969;}#sk-container-id-5 label.sk-toggleable__label-arrow:hover:before {color: black;}#sk-container-id-5 div.sk-estimator:hover label.sk-toggleable__label-arrow:before {color: black;}#sk-container-id-5 div.sk-toggleable__content {max-height: 0;max-width: 0;overflow: hidden;text-align: left;background-color: #f0f8ff;}#sk-container-id-5 div.sk-toggleable__content pre {margin: 0.2em;color: black;border-radius: 0.25em;background-color: #f0f8ff;}#sk-container-id-5 input.sk-toggleable__control:checked~div.sk-toggleable__content {max-height: 200px;max-width: 100%;overflow: auto;}#sk-container-id-5 input.sk-toggleable__control:checked~label.sk-toggleable__label-arrow:before {content: \"▾\";}#sk-container-id-5 div.sk-estimator input.sk-toggleable__control:checked~label.sk-toggleable__label {background-color: #d4ebff;}#sk-container-id-5 div.sk-label input.sk-toggleable__control:checked~label.sk-toggleable__label {background-color: #d4ebff;}#sk-container-id-5 input.sk-hidden--visually {border: 0;clip: rect(1px 1px 1px 1px);clip: rect(1px, 1px, 1px, 1px);height: 1px;margin: -1px;overflow: hidden;padding: 0;position: absolute;width: 1px;}#sk-container-id-5 div.sk-estimator {font-family: monospace;background-color: #f0f8ff;border: 1px dotted black;border-radius: 0.25em;box-sizing: border-box;margin-bottom: 0.5em;}#sk-container-id-5 div.sk-estimator:hover {background-color: #d4ebff;}#sk-container-id-5 div.sk-parallel-item::after {content: \"\";width: 100%;border-bottom: 1px solid gray;flex-grow: 1;}#sk-container-id-5 div.sk-label:hover label.sk-toggleable__label {background-color: #d4ebff;}#sk-container-id-5 div.sk-serial::before {content: \"\";position: absolute;border-left: 1px solid gray;box-sizing: border-box;top: 0;bottom: 0;left: 50%;z-index: 0;}#sk-container-id-5 div.sk-serial {display: flex;flex-direction: column;align-items: center;background-color: white;padding-right: 0.2em;padding-left: 0.2em;position: relative;}#sk-container-id-5 div.sk-item {position: relative;z-index: 1;}#sk-container-id-5 div.sk-parallel {display: flex;align-items: stretch;justify-content: center;background-color: white;position: relative;}#sk-container-id-5 div.sk-item::before, #sk-container-id-5 div.sk-parallel-item::before {content: \"\";position: absolute;border-left: 1px solid gray;box-sizing: border-box;top: 0;bottom: 0;left: 50%;z-index: -1;}#sk-container-id-5 div.sk-parallel-item {display: flex;flex-direction: column;z-index: 1;position: relative;background-color: white;}#sk-container-id-5 div.sk-parallel-item:first-child::after {align-self: flex-end;width: 50%;}#sk-container-id-5 div.sk-parallel-item:last-child::after {align-self: flex-start;width: 50%;}#sk-container-id-5 div.sk-parallel-item:only-child::after {width: 0;}#sk-container-id-5 div.sk-dashed-wrapped {border: 1px dashed gray;margin: 0 0.4em 0.5em 0.4em;box-sizing: border-box;padding-bottom: 0.4em;background-color: white;}#sk-container-id-5 div.sk-label label {font-family: monospace;font-weight: bold;display: inline-block;line-height: 1.2em;}#sk-container-id-5 div.sk-label-container {text-align: center;}#sk-container-id-5 div.sk-container {/* jupyter's `normalize.less` sets `[hidden] { display: none; }` but bootstrap.min.css set `[hidden] { display: none !important; }` so we also need the `!important` here to be able to override the default hidden behavior on the sphinx rendered scikit-learn.org. See: https://github.com/scikit-learn/scikit-learn/issues/21755 */display: inline-block !important;position: relative;}#sk-container-id-5 div.sk-text-repr-fallback {display: none;}</style><div id=\"sk-container-id-5\" class=\"sk-top-container\"><div class=\"sk-text-repr-fallback\"><pre>RandomForestClassifier(max_depth=110, max_features=3, min_samples_leaf=3,\n",
       "                       min_samples_split=8, n_estimators=1000)</pre><b>In a Jupyter environment, please rerun this cell to show the HTML representation or trust the notebook. <br />On GitHub, the HTML representation is unable to render, please try loading this page with nbviewer.org.</b></div><div class=\"sk-container\" hidden><div class=\"sk-item\"><div class=\"sk-estimator sk-toggleable\"><input class=\"sk-toggleable__control sk-hidden--visually\" id=\"sk-estimator-id-9\" type=\"checkbox\" checked><label for=\"sk-estimator-id-9\" class=\"sk-toggleable__label sk-toggleable__label-arrow\">RandomForestClassifier</label><div class=\"sk-toggleable__content\"><pre>RandomForestClassifier(max_depth=110, max_features=3, min_samples_leaf=3,\n",
       "                       min_samples_split=8, n_estimators=1000)</pre></div></div></div></div></div>"
      ],
      "text/plain": [
       "RandomForestClassifier(max_depth=110, max_features=3, min_samples_leaf=3,\n",
       "                       min_samples_split=8, n_estimators=1000)"
      ]
     },
     "execution_count": 138,
     "metadata": {},
     "output_type": "execute_result"
    }
   ],
   "source": [
    "# Train the model using the best hyperparameters\n",
    "model = RandomForestClassifier(**best_params) \n",
    "#Fit the Random Forest Classifier on the training data.\n",
    "model.fit(X_train, y_train)"
   ]
  },
  {
   "cell_type": "code",
   "execution_count": 149,
   "id": "e5d5afba",
   "metadata": {},
   "outputs": [],
   "source": [
    "# Make predictions on the test set\n",
    "y_pred = model.predict(X_test)"
   ]
  },
  {
   "cell_type": "code",
   "execution_count": 150,
   "id": "4b6b28cc",
   "metadata": {},
   "outputs": [],
   "source": [
    "from sklearn.metrics import accuracy_score\n",
    "\n",
    "# Compute the accuracy score\n",
    "accuracy = accuracy_score(y_test, y_pred)"
   ]
  },
  {
   "cell_type": "code",
   "execution_count": 151,
   "id": "2af4901c",
   "metadata": {},
   "outputs": [
    {
     "name": "stdout",
     "output_type": "stream",
     "text": [
      "Accuracy: 0.9766606822262118\n"
     ]
    }
   ],
   "source": [
    "print(\"Accuracy:\", accuracy)"
   ]
  },
  {
   "cell_type": "code",
   "execution_count": 152,
   "id": "bb4ad29b",
   "metadata": {},
   "outputs": [],
   "source": [
    "# Make predictions on the training data\n",
    "y_train_pred = model.predict(X_train)"
   ]
  },
  {
   "cell_type": "code",
   "execution_count": 153,
   "id": "86f43f33",
   "metadata": {},
   "outputs": [
    {
     "name": "stdout",
     "output_type": "stream",
     "text": [
      "[7 7 7 ... 0 4 9]\n"
     ]
    }
   ],
   "source": [
    "# Print the predicted labels\n",
    "print(y_train_pred)"
   ]
  },
  {
   "cell_type": "code",
   "execution_count": 154,
   "id": "37cfe013",
   "metadata": {},
   "outputs": [
    {
     "name": "stdout",
     "output_type": "stream",
     "text": [
      "Training Accuracy: 99.73%\n"
     ]
    }
   ],
   "source": [
    "train_accuracy = accuracy_score(y_train, y_train_pred)\n",
    "print(\"Training Accuracy: {:.2f}%\".format(train_accuracy * 100))"
   ]
  },
  {
   "cell_type": "code",
   "execution_count": 155,
   "id": "1ffdc20d",
   "metadata": {},
   "outputs": [],
   "source": [
    "y_test_pred = model.predict(X_test)"
   ]
  },
  {
   "cell_type": "code",
   "execution_count": 298,
   "id": "f27bc49d",
   "metadata": {},
   "outputs": [
    {
     "name": "stdout",
     "output_type": "stream",
     "text": [
      "Test Accuracy: 97.67%\n"
     ]
    }
   ],
   "source": [
    "test_accuracy = accuracy_score(y_test, y_test_pred)\n",
    "print(\"Test Accuracy: {:.2f}%\".format(test_accuracy * 100))"
   ]
  },
  {
   "cell_type": "code",
   "execution_count": null,
   "id": "7f533f51",
   "metadata": {},
   "outputs": [],
   "source": [
    "####################################"
   ]
  },
  {
   "cell_type": "code",
   "execution_count": 157,
   "id": "f0bc638d",
   "metadata": {},
   "outputs": [],
   "source": [
    "from sklearn.metrics import precision_score, recall_score"
   ]
  },
  {
   "cell_type": "code",
   "execution_count": 162,
   "id": "31b2d6b1",
   "metadata": {},
   "outputs": [
    {
     "name": "stdout",
     "output_type": "stream",
     "text": [
      "   Column1  D_Age  D_Gender  D_BMI  D_Cause of Death  D_Diabetes  \\\n",
      "0        0     40         0   32.2                 2           1   \n",
      "1        1     45         0   32.1                 1           0   \n",
      "2        2     21         1   26.3                 0           1   \n",
      "3        3     41         0   39.3                 1           1   \n",
      "4        4     66         0   38.4                 0           1   \n",
      "\n",
      "   D_Hypertension  D_Alcohol_Abuse  D_Smoking  D_Lympochyte  ...  R Na  R_Mg  \\\n",
      "0               1                1          0             0  ...   5.9   1.5   \n",
      "1               0                0          0             1  ...   1.8   0.3   \n",
      "2               1                0          1             1  ...  17.1   1.4   \n",
      "3               1                1          0             1  ...  18.7   1.3   \n",
      "4               1                1          0             0  ...   7.8   1.2   \n",
      "\n",
      "   R_WBC  R_Platelets  R_Cold_Ischemia_Time  R_Warm_Ischemia_Time  \\\n",
      "0  21310       426232                   3.9                   2.1   \n",
      "1  19471       414357                   3.4                   3.0   \n",
      "2   9204       292844                   7.2                   2.8   \n",
      "3  24350       190143                  11.0                   2.5   \n",
      "4  14871       403780                   2.7                   1.5   \n",
      "\n",
      "   R_Blood_Transfusion  R_Immunosuppressant_Medication  R_Rejection_Episodes  \\\n",
      "0                  0.0                               0                     3   \n",
      "1                  0.0                               0                     1   \n",
      "2                  0.0                               2                     4   \n",
      "3                  0.0                               1                     0   \n",
      "4                  1.0                               1                     3   \n",
      "\n",
      "   Complications  \n",
      "0              3  \n",
      "1              0  \n",
      "2              7  \n",
      "3              7  \n",
      "4             10  \n",
      "\n",
      "[5 rows x 37 columns]\n"
     ]
    }
   ],
   "source": [
    "print(data.head())"
   ]
  },
  {
   "cell_type": "code",
   "execution_count": 163,
   "id": "f39fd386",
   "metadata": {},
   "outputs": [
    {
     "data": {
      "text/html": [
       "<div>\n",
       "<style scoped>\n",
       "    .dataframe tbody tr th:only-of-type {\n",
       "        vertical-align: middle;\n",
       "    }\n",
       "\n",
       "    .dataframe tbody tr th {\n",
       "        vertical-align: top;\n",
       "    }\n",
       "\n",
       "    .dataframe thead th {\n",
       "        text-align: right;\n",
       "    }\n",
       "</style>\n",
       "<table border=\"1\" class=\"dataframe\">\n",
       "  <thead>\n",
       "    <tr style=\"text-align: right;\">\n",
       "      <th></th>\n",
       "      <th>Column1</th>\n",
       "      <th>D_Age</th>\n",
       "      <th>D_Gender</th>\n",
       "      <th>D_BMI</th>\n",
       "      <th>D_Cause of Death</th>\n",
       "      <th>D_Diabetes</th>\n",
       "      <th>D_Hypertension</th>\n",
       "      <th>D_Alcohol_Abuse</th>\n",
       "      <th>D_Smoking</th>\n",
       "      <th>D_Lympochyte</th>\n",
       "      <th>...</th>\n",
       "      <th>R Na</th>\n",
       "      <th>R_Mg</th>\n",
       "      <th>R_WBC</th>\n",
       "      <th>R_Platelets</th>\n",
       "      <th>R_Cold_Ischemia_Time</th>\n",
       "      <th>R_Warm_Ischemia_Time</th>\n",
       "      <th>R_Blood_Transfusion</th>\n",
       "      <th>R_Immunosuppressant_Medication</th>\n",
       "      <th>R_Rejection_Episodes</th>\n",
       "      <th>Complications</th>\n",
       "    </tr>\n",
       "  </thead>\n",
       "  <tbody>\n",
       "    <tr>\n",
       "      <th>0</th>\n",
       "      <td>0</td>\n",
       "      <td>40</td>\n",
       "      <td>0</td>\n",
       "      <td>32.2</td>\n",
       "      <td>2</td>\n",
       "      <td>1</td>\n",
       "      <td>1</td>\n",
       "      <td>1</td>\n",
       "      <td>0</td>\n",
       "      <td>0</td>\n",
       "      <td>...</td>\n",
       "      <td>5.9</td>\n",
       "      <td>1.5</td>\n",
       "      <td>21310</td>\n",
       "      <td>426232</td>\n",
       "      <td>3.9</td>\n",
       "      <td>2.1</td>\n",
       "      <td>0.0</td>\n",
       "      <td>0</td>\n",
       "      <td>3</td>\n",
       "      <td>3</td>\n",
       "    </tr>\n",
       "    <tr>\n",
       "      <th>1</th>\n",
       "      <td>1</td>\n",
       "      <td>45</td>\n",
       "      <td>0</td>\n",
       "      <td>32.1</td>\n",
       "      <td>1</td>\n",
       "      <td>0</td>\n",
       "      <td>0</td>\n",
       "      <td>0</td>\n",
       "      <td>0</td>\n",
       "      <td>1</td>\n",
       "      <td>...</td>\n",
       "      <td>1.8</td>\n",
       "      <td>0.3</td>\n",
       "      <td>19471</td>\n",
       "      <td>414357</td>\n",
       "      <td>3.4</td>\n",
       "      <td>3.0</td>\n",
       "      <td>0.0</td>\n",
       "      <td>0</td>\n",
       "      <td>1</td>\n",
       "      <td>0</td>\n",
       "    </tr>\n",
       "    <tr>\n",
       "      <th>2</th>\n",
       "      <td>2</td>\n",
       "      <td>21</td>\n",
       "      <td>1</td>\n",
       "      <td>26.3</td>\n",
       "      <td>0</td>\n",
       "      <td>1</td>\n",
       "      <td>1</td>\n",
       "      <td>0</td>\n",
       "      <td>1</td>\n",
       "      <td>1</td>\n",
       "      <td>...</td>\n",
       "      <td>17.1</td>\n",
       "      <td>1.4</td>\n",
       "      <td>9204</td>\n",
       "      <td>292844</td>\n",
       "      <td>7.2</td>\n",
       "      <td>2.8</td>\n",
       "      <td>0.0</td>\n",
       "      <td>2</td>\n",
       "      <td>4</td>\n",
       "      <td>7</td>\n",
       "    </tr>\n",
       "    <tr>\n",
       "      <th>3</th>\n",
       "      <td>3</td>\n",
       "      <td>41</td>\n",
       "      <td>0</td>\n",
       "      <td>39.3</td>\n",
       "      <td>1</td>\n",
       "      <td>1</td>\n",
       "      <td>1</td>\n",
       "      <td>1</td>\n",
       "      <td>0</td>\n",
       "      <td>1</td>\n",
       "      <td>...</td>\n",
       "      <td>18.7</td>\n",
       "      <td>1.3</td>\n",
       "      <td>24350</td>\n",
       "      <td>190143</td>\n",
       "      <td>11.0</td>\n",
       "      <td>2.5</td>\n",
       "      <td>0.0</td>\n",
       "      <td>1</td>\n",
       "      <td>0</td>\n",
       "      <td>7</td>\n",
       "    </tr>\n",
       "    <tr>\n",
       "      <th>4</th>\n",
       "      <td>4</td>\n",
       "      <td>66</td>\n",
       "      <td>0</td>\n",
       "      <td>38.4</td>\n",
       "      <td>0</td>\n",
       "      <td>1</td>\n",
       "      <td>1</td>\n",
       "      <td>1</td>\n",
       "      <td>0</td>\n",
       "      <td>0</td>\n",
       "      <td>...</td>\n",
       "      <td>7.8</td>\n",
       "      <td>1.2</td>\n",
       "      <td>14871</td>\n",
       "      <td>403780</td>\n",
       "      <td>2.7</td>\n",
       "      <td>1.5</td>\n",
       "      <td>1.0</td>\n",
       "      <td>1</td>\n",
       "      <td>3</td>\n",
       "      <td>10</td>\n",
       "    </tr>\n",
       "    <tr>\n",
       "      <th>...</th>\n",
       "      <td>...</td>\n",
       "      <td>...</td>\n",
       "      <td>...</td>\n",
       "      <td>...</td>\n",
       "      <td>...</td>\n",
       "      <td>...</td>\n",
       "      <td>...</td>\n",
       "      <td>...</td>\n",
       "      <td>...</td>\n",
       "      <td>...</td>\n",
       "      <td>...</td>\n",
       "      <td>...</td>\n",
       "      <td>...</td>\n",
       "      <td>...</td>\n",
       "      <td>...</td>\n",
       "      <td>...</td>\n",
       "      <td>...</td>\n",
       "      <td>...</td>\n",
       "      <td>...</td>\n",
       "      <td>...</td>\n",
       "      <td>...</td>\n",
       "    </tr>\n",
       "    <tr>\n",
       "      <th>1936</th>\n",
       "      <td>1933</td>\n",
       "      <td>49</td>\n",
       "      <td>0</td>\n",
       "      <td>28.0</td>\n",
       "      <td>0</td>\n",
       "      <td>0</td>\n",
       "      <td>1</td>\n",
       "      <td>0</td>\n",
       "      <td>0</td>\n",
       "      <td>1</td>\n",
       "      <td>...</td>\n",
       "      <td>7.8</td>\n",
       "      <td>0.0</td>\n",
       "      <td>14412</td>\n",
       "      <td>235741</td>\n",
       "      <td>8.6</td>\n",
       "      <td>1.0</td>\n",
       "      <td>0.0</td>\n",
       "      <td>0</td>\n",
       "      <td>0</td>\n",
       "      <td>1</td>\n",
       "    </tr>\n",
       "    <tr>\n",
       "      <th>1937</th>\n",
       "      <td>1934</td>\n",
       "      <td>18</td>\n",
       "      <td>1</td>\n",
       "      <td>35.3</td>\n",
       "      <td>1</td>\n",
       "      <td>1</td>\n",
       "      <td>0</td>\n",
       "      <td>1</td>\n",
       "      <td>0</td>\n",
       "      <td>1</td>\n",
       "      <td>...</td>\n",
       "      <td>15.4</td>\n",
       "      <td>0.9</td>\n",
       "      <td>21195</td>\n",
       "      <td>259229</td>\n",
       "      <td>2.5</td>\n",
       "      <td>1.9</td>\n",
       "      <td>0.0</td>\n",
       "      <td>1</td>\n",
       "      <td>5</td>\n",
       "      <td>8</td>\n",
       "    </tr>\n",
       "    <tr>\n",
       "      <th>1939</th>\n",
       "      <td>1935</td>\n",
       "      <td>30</td>\n",
       "      <td>1</td>\n",
       "      <td>32.8</td>\n",
       "      <td>2</td>\n",
       "      <td>1</td>\n",
       "      <td>1</td>\n",
       "      <td>0</td>\n",
       "      <td>0</td>\n",
       "      <td>1</td>\n",
       "      <td>...</td>\n",
       "      <td>11.0</td>\n",
       "      <td>0.7</td>\n",
       "      <td>22590</td>\n",
       "      <td>255478</td>\n",
       "      <td>8.8</td>\n",
       "      <td>1.6</td>\n",
       "      <td>0.0</td>\n",
       "      <td>2</td>\n",
       "      <td>2</td>\n",
       "      <td>3</td>\n",
       "    </tr>\n",
       "    <tr>\n",
       "      <th>1940</th>\n",
       "      <td>1936</td>\n",
       "      <td>52</td>\n",
       "      <td>0</td>\n",
       "      <td>21.0</td>\n",
       "      <td>1</td>\n",
       "      <td>1</td>\n",
       "      <td>0</td>\n",
       "      <td>1</td>\n",
       "      <td>1</td>\n",
       "      <td>1</td>\n",
       "      <td>...</td>\n",
       "      <td>2.4</td>\n",
       "      <td>0.3</td>\n",
       "      <td>10029</td>\n",
       "      <td>349280</td>\n",
       "      <td>5.4</td>\n",
       "      <td>4.8</td>\n",
       "      <td>0.0</td>\n",
       "      <td>2</td>\n",
       "      <td>5</td>\n",
       "      <td>6</td>\n",
       "    </tr>\n",
       "    <tr>\n",
       "      <th>1941</th>\n",
       "      <td>1937</td>\n",
       "      <td>45</td>\n",
       "      <td>0</td>\n",
       "      <td>24.0</td>\n",
       "      <td>1</td>\n",
       "      <td>1</td>\n",
       "      <td>1</td>\n",
       "      <td>1</td>\n",
       "      <td>0</td>\n",
       "      <td>1</td>\n",
       "      <td>...</td>\n",
       "      <td>7.0</td>\n",
       "      <td>0.7</td>\n",
       "      <td>14516</td>\n",
       "      <td>447333</td>\n",
       "      <td>5.6</td>\n",
       "      <td>1.9</td>\n",
       "      <td>0.0</td>\n",
       "      <td>1</td>\n",
       "      <td>5</td>\n",
       "      <td>3</td>\n",
       "    </tr>\n",
       "  </tbody>\n",
       "</table>\n",
       "<p>1938 rows × 37 columns</p>\n",
       "</div>"
      ],
      "text/plain": [
       "      Column1  D_Age  D_Gender  D_BMI  D_Cause of Death  D_Diabetes  \\\n",
       "0           0     40         0   32.2                 2           1   \n",
       "1           1     45         0   32.1                 1           0   \n",
       "2           2     21         1   26.3                 0           1   \n",
       "3           3     41         0   39.3                 1           1   \n",
       "4           4     66         0   38.4                 0           1   \n",
       "...       ...    ...       ...    ...               ...         ...   \n",
       "1936     1933     49         0   28.0                 0           0   \n",
       "1937     1934     18         1   35.3                 1           1   \n",
       "1939     1935     30         1   32.8                 2           1   \n",
       "1940     1936     52         0   21.0                 1           1   \n",
       "1941     1937     45         0   24.0                 1           1   \n",
       "\n",
       "      D_Hypertension  D_Alcohol_Abuse  D_Smoking  D_Lympochyte  ...  R Na  \\\n",
       "0                  1                1          0             0  ...   5.9   \n",
       "1                  0                0          0             1  ...   1.8   \n",
       "2                  1                0          1             1  ...  17.1   \n",
       "3                  1                1          0             1  ...  18.7   \n",
       "4                  1                1          0             0  ...   7.8   \n",
       "...              ...              ...        ...           ...  ...   ...   \n",
       "1936               1                0          0             1  ...   7.8   \n",
       "1937               0                1          0             1  ...  15.4   \n",
       "1939               1                0          0             1  ...  11.0   \n",
       "1940               0                1          1             1  ...   2.4   \n",
       "1941               1                1          0             1  ...   7.0   \n",
       "\n",
       "      R_Mg  R_WBC  R_Platelets  R_Cold_Ischemia_Time  R_Warm_Ischemia_Time  \\\n",
       "0      1.5  21310       426232                   3.9                   2.1   \n",
       "1      0.3  19471       414357                   3.4                   3.0   \n",
       "2      1.4   9204       292844                   7.2                   2.8   \n",
       "3      1.3  24350       190143                  11.0                   2.5   \n",
       "4      1.2  14871       403780                   2.7                   1.5   \n",
       "...    ...    ...          ...                   ...                   ...   \n",
       "1936   0.0  14412       235741                   8.6                   1.0   \n",
       "1937   0.9  21195       259229                   2.5                   1.9   \n",
       "1939   0.7  22590       255478                   8.8                   1.6   \n",
       "1940   0.3  10029       349280                   5.4                   4.8   \n",
       "1941   0.7  14516       447333                   5.6                   1.9   \n",
       "\n",
       "      R_Blood_Transfusion  R_Immunosuppressant_Medication  \\\n",
       "0                     0.0                               0   \n",
       "1                     0.0                               0   \n",
       "2                     0.0                               2   \n",
       "3                     0.0                               1   \n",
       "4                     1.0                               1   \n",
       "...                   ...                             ...   \n",
       "1936                  0.0                               0   \n",
       "1937                  0.0                               1   \n",
       "1939                  0.0                               2   \n",
       "1940                  0.0                               2   \n",
       "1941                  0.0                               1   \n",
       "\n",
       "      R_Rejection_Episodes  Complications  \n",
       "0                        3              3  \n",
       "1                        1              0  \n",
       "2                        4              7  \n",
       "3                        0              7  \n",
       "4                        3             10  \n",
       "...                    ...            ...  \n",
       "1936                     0              1  \n",
       "1937                     5              8  \n",
       "1939                     2              3  \n",
       "1940                     5              6  \n",
       "1941                     5              3  \n",
       "\n",
       "[1938 rows x 37 columns]"
      ]
     },
     "execution_count": 163,
     "metadata": {},
     "output_type": "execute_result"
    }
   ],
   "source": [
    "data"
   ]
  },
  {
   "cell_type": "code",
   "execution_count": 174,
   "id": "0061e553",
   "metadata": {},
   "outputs": [
    {
     "name": "stdout",
     "output_type": "stream",
     "text": [
      "0       4\n",
      "1       1\n",
      "2       2\n",
      "3       3\n",
      "4       1\n",
      "       ..\n",
      "1936    4\n",
      "1937    1\n",
      "1939    3\n",
      "1940    1\n",
      "1941    2\n",
      "Name: R_Etiology, Length: 1938, dtype: int32\n"
     ]
    }
   ],
   "source": [
    "R_Etiology_data = data['R_Etiology']\n",
    "print(R_Etiology_data)"
   ]
  },
  {
   "cell_type": "code",
   "execution_count": 166,
   "id": "510a0b46",
   "metadata": {},
   "outputs": [
    {
     "name": "stdout",
     "output_type": "stream",
     "text": [
      "[ 3  0  7 10  5  8  6  1  4  2  9]\n"
     ]
    }
   ],
   "source": [
    "unique_values = data['Complications'].unique()\n",
    "print(unique_values)"
   ]
  },
  {
   "cell_type": "code",
   "execution_count": 167,
   "id": "bb12ed88",
   "metadata": {},
   "outputs": [
    {
     "name": "stdout",
     "output_type": "stream",
     "text": [
      "5     253\n",
      "7     232\n",
      "0     222\n",
      "1     216\n",
      "8     187\n",
      "3     183\n",
      "4     180\n",
      "10    174\n",
      "6     126\n",
      "9      87\n",
      "2      78\n",
      "Name: Complications, dtype: int64\n"
     ]
    }
   ],
   "source": [
    "value_counts = data['Complications'].value_counts()\n",
    "print(value_counts)"
   ]
  },
  {
   "cell_type": "code",
   "execution_count": 299,
   "id": "81fd5ce7",
   "metadata": {},
   "outputs": [],
   "source": [
    "from sklearn.metrics import precision_score, recall_score, f1_score"
   ]
  },
  {
   "cell_type": "code",
   "execution_count": 300,
   "id": "ac6b8d40",
   "metadata": {},
   "outputs": [],
   "source": [
    "precision = precision_score(y_test, y_pred, average='macro')\n",
    "recall = recall_score(y_test, y_pred, average='macro')\n",
    "f1 = f1_score(y_test, y_pred, average='macro')"
   ]
  },
  {
   "cell_type": "code",
   "execution_count": 301,
   "id": "036b6b30",
   "metadata": {},
   "outputs": [
    {
     "name": "stdout",
     "output_type": "stream",
     "text": [
      "Precision: 0.9782913291572097\n",
      "Recall: 0.9771373987674928\n",
      "F1 Score: 0.9768945072412919\n"
     ]
    }
   ],
   "source": [
    "print(\"Precision:\", precision)\n",
    "print(\"Recall:\", recall)\n",
    "print(\"F1 Score:\", f1)"
   ]
  },
  {
   "cell_type": "markdown",
   "id": "6ed28dab",
   "metadata": {},
   "source": [
    "#### Data Standardization"
   ]
  },
  {
   "cell_type": "code",
   "execution_count": 197,
   "id": "0f6cd386",
   "metadata": {},
   "outputs": [],
   "source": [
    "from sklearn.preprocessing import StandardScaler\n"
   ]
  },
  {
   "cell_type": "code",
   "execution_count": 198,
   "id": "b06f0f1a",
   "metadata": {},
   "outputs": [],
   "source": [
    "scaler = StandardScaler()"
   ]
  },
  {
   "cell_type": "code",
   "execution_count": 199,
   "id": "57cf2d45",
   "metadata": {},
   "outputs": [
    {
     "data": {
      "text/html": [
       "<style>#sk-container-id-8 {color: black;background-color: white;}#sk-container-id-8 pre{padding: 0;}#sk-container-id-8 div.sk-toggleable {background-color: white;}#sk-container-id-8 label.sk-toggleable__label {cursor: pointer;display: block;width: 100%;margin-bottom: 0;padding: 0.3em;box-sizing: border-box;text-align: center;}#sk-container-id-8 label.sk-toggleable__label-arrow:before {content: \"▸\";float: left;margin-right: 0.25em;color: #696969;}#sk-container-id-8 label.sk-toggleable__label-arrow:hover:before {color: black;}#sk-container-id-8 div.sk-estimator:hover label.sk-toggleable__label-arrow:before {color: black;}#sk-container-id-8 div.sk-toggleable__content {max-height: 0;max-width: 0;overflow: hidden;text-align: left;background-color: #f0f8ff;}#sk-container-id-8 div.sk-toggleable__content pre {margin: 0.2em;color: black;border-radius: 0.25em;background-color: #f0f8ff;}#sk-container-id-8 input.sk-toggleable__control:checked~div.sk-toggleable__content {max-height: 200px;max-width: 100%;overflow: auto;}#sk-container-id-8 input.sk-toggleable__control:checked~label.sk-toggleable__label-arrow:before {content: \"▾\";}#sk-container-id-8 div.sk-estimator input.sk-toggleable__control:checked~label.sk-toggleable__label {background-color: #d4ebff;}#sk-container-id-8 div.sk-label input.sk-toggleable__control:checked~label.sk-toggleable__label {background-color: #d4ebff;}#sk-container-id-8 input.sk-hidden--visually {border: 0;clip: rect(1px 1px 1px 1px);clip: rect(1px, 1px, 1px, 1px);height: 1px;margin: -1px;overflow: hidden;padding: 0;position: absolute;width: 1px;}#sk-container-id-8 div.sk-estimator {font-family: monospace;background-color: #f0f8ff;border: 1px dotted black;border-radius: 0.25em;box-sizing: border-box;margin-bottom: 0.5em;}#sk-container-id-8 div.sk-estimator:hover {background-color: #d4ebff;}#sk-container-id-8 div.sk-parallel-item::after {content: \"\";width: 100%;border-bottom: 1px solid gray;flex-grow: 1;}#sk-container-id-8 div.sk-label:hover label.sk-toggleable__label {background-color: #d4ebff;}#sk-container-id-8 div.sk-serial::before {content: \"\";position: absolute;border-left: 1px solid gray;box-sizing: border-box;top: 0;bottom: 0;left: 50%;z-index: 0;}#sk-container-id-8 div.sk-serial {display: flex;flex-direction: column;align-items: center;background-color: white;padding-right: 0.2em;padding-left: 0.2em;position: relative;}#sk-container-id-8 div.sk-item {position: relative;z-index: 1;}#sk-container-id-8 div.sk-parallel {display: flex;align-items: stretch;justify-content: center;background-color: white;position: relative;}#sk-container-id-8 div.sk-item::before, #sk-container-id-8 div.sk-parallel-item::before {content: \"\";position: absolute;border-left: 1px solid gray;box-sizing: border-box;top: 0;bottom: 0;left: 50%;z-index: -1;}#sk-container-id-8 div.sk-parallel-item {display: flex;flex-direction: column;z-index: 1;position: relative;background-color: white;}#sk-container-id-8 div.sk-parallel-item:first-child::after {align-self: flex-end;width: 50%;}#sk-container-id-8 div.sk-parallel-item:last-child::after {align-self: flex-start;width: 50%;}#sk-container-id-8 div.sk-parallel-item:only-child::after {width: 0;}#sk-container-id-8 div.sk-dashed-wrapped {border: 1px dashed gray;margin: 0 0.4em 0.5em 0.4em;box-sizing: border-box;padding-bottom: 0.4em;background-color: white;}#sk-container-id-8 div.sk-label label {font-family: monospace;font-weight: bold;display: inline-block;line-height: 1.2em;}#sk-container-id-8 div.sk-label-container {text-align: center;}#sk-container-id-8 div.sk-container {/* jupyter's `normalize.less` sets `[hidden] { display: none; }` but bootstrap.min.css set `[hidden] { display: none !important; }` so we also need the `!important` here to be able to override the default hidden behavior on the sphinx rendered scikit-learn.org. See: https://github.com/scikit-learn/scikit-learn/issues/21755 */display: inline-block !important;position: relative;}#sk-container-id-8 div.sk-text-repr-fallback {display: none;}</style><div id=\"sk-container-id-8\" class=\"sk-top-container\"><div class=\"sk-text-repr-fallback\"><pre>StandardScaler()</pre><b>In a Jupyter environment, please rerun this cell to show the HTML representation or trust the notebook. <br />On GitHub, the HTML representation is unable to render, please try loading this page with nbviewer.org.</b></div><div class=\"sk-container\" hidden><div class=\"sk-item\"><div class=\"sk-estimator sk-toggleable\"><input class=\"sk-toggleable__control sk-hidden--visually\" id=\"sk-estimator-id-12\" type=\"checkbox\" checked><label for=\"sk-estimator-id-12\" class=\"sk-toggleable__label sk-toggleable__label-arrow\">StandardScaler</label><div class=\"sk-toggleable__content\"><pre>StandardScaler()</pre></div></div></div></div></div>"
      ],
      "text/plain": [
       "StandardScaler()"
      ]
     },
     "execution_count": 199,
     "metadata": {},
     "output_type": "execute_result"
    }
   ],
   "source": [
    "scaler.fit(X)"
   ]
  },
  {
   "cell_type": "code",
   "execution_count": 200,
   "id": "adb85b28",
   "metadata": {},
   "outputs": [],
   "source": [
    "standardized_data = scaler.transform(X)"
   ]
  },
  {
   "cell_type": "code",
   "execution_count": 201,
   "id": "7c9deea5",
   "metadata": {},
   "outputs": [
    {
     "name": "stdout",
     "output_type": "stream",
     "text": [
      "[[-1.73115731 -0.27756216 -0.99177787 ... -0.9846381  -1.22581848\n",
      "   0.28996156]\n",
      " [-1.72936984  0.05399323 -0.99177787 ... -0.9846381  -1.22581848\n",
      "  -0.88320233]\n",
      " [-1.72758238 -1.53747262  1.0082903  ... -0.9846381   1.25785764\n",
      "   0.87654351]\n",
      " ...\n",
      " [ 1.72758238 -0.94067293  1.0082903  ... -0.9846381   1.25785764\n",
      "  -0.29662039]\n",
      " [ 1.72936984  0.51817077 -0.99177787 ... -0.9846381   1.25785764\n",
      "   1.46312546]\n",
      " [ 1.73115731  0.05399323 -0.99177787 ... -0.9846381   0.01601958\n",
      "   1.46312546]]\n"
     ]
    }
   ],
   "source": [
    "print(standardized_data)"
   ]
  },
  {
   "cell_type": "code",
   "execution_count": 202,
   "id": "4b172e37",
   "metadata": {},
   "outputs": [],
   "source": [
    "X = standardized_data\n",
    "y = data['Complications']"
   ]
  },
  {
   "cell_type": "code",
   "execution_count": 203,
   "id": "1ae2487a",
   "metadata": {},
   "outputs": [
    {
     "name": "stdout",
     "output_type": "stream",
     "text": [
      "[[-1.73115731 -0.27756216 -0.99177787 ... -0.9846381  -1.22581848\n",
      "   0.28996156]\n",
      " [-1.72936984  0.05399323 -0.99177787 ... -0.9846381  -1.22581848\n",
      "  -0.88320233]\n",
      " [-1.72758238 -1.53747262  1.0082903  ... -0.9846381   1.25785764\n",
      "   0.87654351]\n",
      " ...\n",
      " [ 1.72758238 -0.94067293  1.0082903  ... -0.9846381   1.25785764\n",
      "  -0.29662039]\n",
      " [ 1.72936984  0.51817077 -0.99177787 ... -0.9846381   1.25785764\n",
      "   1.46312546]\n",
      " [ 1.73115731  0.05399323 -0.99177787 ... -0.9846381   0.01601958\n",
      "   1.46312546]]\n",
      "0        3\n",
      "1        0\n",
      "2        7\n",
      "3        7\n",
      "4       10\n",
      "        ..\n",
      "1936     1\n",
      "1937     8\n",
      "1939     3\n",
      "1940     6\n",
      "1941     3\n",
      "Name: Complications, Length: 1938, dtype: int32\n"
     ]
    }
   ],
   "source": [
    "print(X)\n",
    "print(y)"
   ]
  },
  {
   "cell_type": "markdown",
   "id": "24855c8a",
   "metadata": {},
   "source": [
    "#### Making a predictive system"
   ]
  },
  {
   "cell_type": "code",
   "execution_count": 228,
   "id": "eafeaa42",
   "metadata": {},
   "outputs": [],
   "source": [
    "input_data = (0,40,0,32.2,2,1,1,1,0,0,1,0,4,18,22,0,29.5,1,0,0,0,1,0,1,33,84,4.1,5.9,1.5,21310,426232,3.9,2.1,0,0,3)"
   ]
  },
  {
   "cell_type": "code",
   "execution_count": 229,
   "id": "1a9905ca",
   "metadata": {},
   "outputs": [],
   "source": [
    "#changing the input_data to numpy array\n",
    "input_data_as_numpy_array = np.asarray(input_data)"
   ]
  },
  {
   "cell_type": "code",
   "execution_count": 230,
   "id": "08e61b58",
   "metadata": {},
   "outputs": [],
   "source": [
    "#reshape the array as we are predicting for one instance\n",
    "input_data_reshaped = input_data_as_numpy_array.reshape(1,-1)"
   ]
  },
  {
   "cell_type": "code",
   "execution_count": 231,
   "id": "d0f60497",
   "metadata": {},
   "outputs": [],
   "source": [
    "# standardize the input data\n",
    "std_data =  scaler.transform(input_data_reshaped)"
   ]
  },
  {
   "cell_type": "code",
   "execution_count": 232,
   "id": "56d76b55",
   "metadata": {},
   "outputs": [
    {
     "name": "stdout",
     "output_type": "stream",
     "text": [
      "[[-5.86619390e-17  4.00000000e+01  1.09991136e-17  3.22000000e+01\n",
      "   2.00000000e+00  1.00000000e+00  1.00000000e+00  1.00000000e+00\n",
      "  -1.46654847e-17  1.48488033e-16  1.00000000e+00  1.50321219e-16\n",
      "   4.00000000e+00  1.80000000e+01  2.20000000e+01 -2.16315900e-16\n",
      "   2.95000000e+01  1.00000000e+00 -1.37488919e-17 -3.48305263e-17\n",
      "   2.29148199e-18  1.00000000e+00 -2.56645983e-17  1.00000000e+00\n",
      "   3.30000000e+01  8.40000000e+01  4.10000000e+00  5.90000000e+00\n",
      "   1.50000000e+00  2.13100000e+04  4.26232000e+05  3.90000000e+00\n",
      "   2.10000000e+00 -2.74977839e-17 -4.58296398e-18  3.00000000e+00]]\n"
     ]
    }
   ],
   "source": [
    "print(std_data)"
   ]
  },
  {
   "cell_type": "code",
   "execution_count": 233,
   "id": "53a8578e",
   "metadata": {},
   "outputs": [
    {
     "name": "stderr",
     "output_type": "stream",
     "text": [
      "C:\\Users\\91866\\anaconda3\\lib\\site-packages\\sklearn\\base.py:420: UserWarning: X does not have valid feature names, but RandomForestClassifier was fitted with feature names\n",
      "  warnings.warn(\n"
     ]
    }
   ],
   "source": [
    "prediction = model.predict(std_data)"
   ]
  },
  {
   "cell_type": "code",
   "execution_count": 234,
   "id": "8ef72287",
   "metadata": {},
   "outputs": [
    {
     "name": "stdout",
     "output_type": "stream",
     "text": [
      "[3]\n",
      "Complications occur\n"
     ]
    }
   ],
   "source": [
    "print(prediction)\n",
    "\n",
    "if prediction[0] == 0:\n",
    "    print('No Complications occur')\n",
    "else:\n",
    "    print('Complications occur')"
   ]
  },
  {
   "cell_type": "code",
   "execution_count": 235,
   "id": "6a906a11",
   "metadata": {},
   "outputs": [],
   "source": [
    "input_data = (3,41,0,39.3,1,1,1,1,0,1,1,1,3,13,68,0,22.7,1,0,1,1,1,0,0,45,16,1,18.7,1.3,24350,190143,11,2.5,0,1,0)"
   ]
  },
  {
   "cell_type": "code",
   "execution_count": 236,
   "id": "0f4ab290",
   "metadata": {},
   "outputs": [],
   "source": [
    "input_data_as_numpy_array = np.asarray(input_data)"
   ]
  },
  {
   "cell_type": "code",
   "execution_count": 237,
   "id": "ee5c0727",
   "metadata": {},
   "outputs": [],
   "source": [
    "input_data_reshaped = input_data_as_numpy_array.reshape(1,-1)"
   ]
  },
  {
   "cell_type": "code",
   "execution_count": 238,
   "id": "3c465051",
   "metadata": {},
   "outputs": [],
   "source": [
    "std_data =  scaler.transform(input_data_reshaped)"
   ]
  },
  {
   "cell_type": "code",
   "execution_count": 239,
   "id": "f3820d80",
   "metadata": {},
   "outputs": [
    {
     "name": "stdout",
     "output_type": "stream",
     "text": [
      "[[ 3.00000000e+00  4.10000000e+01  1.09991136e-17  3.93000000e+01\n",
      "   1.00000000e+00  1.00000000e+00  1.00000000e+00  1.00000000e+00\n",
      "  -1.46654847e-17  1.00000000e+00  1.00000000e+00  1.00000000e+00\n",
      "   3.00000000e+00  1.30000000e+01  6.80000000e+01 -2.16315900e-16\n",
      "   2.27000000e+01  1.00000000e+00 -1.37488919e-17  1.00000000e+00\n",
      "   1.00000000e+00  1.00000000e+00 -2.56645983e-17 -8.61597229e-17\n",
      "   4.50000000e+01  1.60000000e+01  1.00000000e+00  1.87000000e+01\n",
      "   1.30000000e+00  2.43500000e+04  1.90143000e+05  1.10000000e+01\n",
      "   2.50000000e+00 -2.74977839e-17  1.00000000e+00  1.06783061e-16]]\n"
     ]
    }
   ],
   "source": [
    "print(std_data)"
   ]
  },
  {
   "cell_type": "code",
   "execution_count": 240,
   "id": "ebadb3b0",
   "metadata": {},
   "outputs": [
    {
     "name": "stderr",
     "output_type": "stream",
     "text": [
      "C:\\Users\\91866\\anaconda3\\lib\\site-packages\\sklearn\\base.py:420: UserWarning: X does not have valid feature names, but RandomForestClassifier was fitted with feature names\n",
      "  warnings.warn(\n"
     ]
    }
   ],
   "source": [
    "prediction = model.predict(std_data)"
   ]
  },
  {
   "cell_type": "code",
   "execution_count": 241,
   "id": "cc58eddc",
   "metadata": {},
   "outputs": [
    {
     "name": "stdout",
     "output_type": "stream",
     "text": [
      "[7]\n",
      "Complications occur\n"
     ]
    }
   ],
   "source": [
    "print(prediction)\n",
    "\n",
    "if prediction[0] == 0:\n",
    "    print('No Complications occur')\n",
    "else:\n",
    "    print('Complications occur')"
   ]
  },
  {
   "cell_type": "code",
   "execution_count": null,
   "id": "302165ee",
   "metadata": {},
   "outputs": [],
   "source": [
    "#### imagination value"
   ]
  },
  {
   "cell_type": "code",
   "execution_count": 242,
   "id": "3f9a3010",
   "metadata": {},
   "outputs": [],
   "source": [
    "input_data = (3,41,0,39.3,1,0,1,0,0,1,1,1,3,13,78,0,22.7,1,0,1,1,1,0,0,45,16,0,18.7,1.3,24350,190143,11,2.5,1,1,4)"
   ]
  },
  {
   "cell_type": "code",
   "execution_count": 243,
   "id": "d629a43c",
   "metadata": {},
   "outputs": [],
   "source": [
    "input_data_as_numpy_array = np.asarray(input_data)"
   ]
  },
  {
   "cell_type": "code",
   "execution_count": 244,
   "id": "74510b1a",
   "metadata": {},
   "outputs": [],
   "source": [
    "input_data_reshaped = input_data_as_numpy_array.reshape(1,-1)"
   ]
  },
  {
   "cell_type": "code",
   "execution_count": 245,
   "id": "1488081c",
   "metadata": {},
   "outputs": [],
   "source": [
    "std_data =  scaler.transform(input_data_reshaped)"
   ]
  },
  {
   "cell_type": "code",
   "execution_count": 246,
   "id": "c531b2e1",
   "metadata": {},
   "outputs": [
    {
     "name": "stdout",
     "output_type": "stream",
     "text": [
      "[[ 3.00000000e+00  4.10000000e+01  1.09991136e-17  3.93000000e+01\n",
      "   1.00000000e+00  5.77453462e-17  1.00000000e+00 -4.76628254e-17\n",
      "  -1.46654847e-17  1.00000000e+00  1.00000000e+00  1.00000000e+00\n",
      "   3.00000000e+00  1.30000000e+01  7.80000000e+01 -2.16315900e-16\n",
      "   2.27000000e+01  1.00000000e+00 -1.37488919e-17  1.00000000e+00\n",
      "   1.00000000e+00  1.00000000e+00 -2.56645983e-17 -8.61597229e-17\n",
      "   4.50000000e+01  1.60000000e+01  3.75803047e-17  1.87000000e+01\n",
      "   1.30000000e+00  2.43500000e+04  1.90143000e+05  1.10000000e+01\n",
      "   2.50000000e+00  1.00000000e+00  1.00000000e+00  4.00000000e+00]]\n"
     ]
    }
   ],
   "source": [
    "print(std_data)"
   ]
  },
  {
   "cell_type": "code",
   "execution_count": 247,
   "id": "14eed8c8",
   "metadata": {},
   "outputs": [
    {
     "name": "stderr",
     "output_type": "stream",
     "text": [
      "C:\\Users\\91866\\anaconda3\\lib\\site-packages\\sklearn\\base.py:420: UserWarning: X does not have valid feature names, but RandomForestClassifier was fitted with feature names\n",
      "  warnings.warn(\n"
     ]
    }
   ],
   "source": [
    "prediction = model.predict(std_data)"
   ]
  },
  {
   "cell_type": "code",
   "execution_count": 248,
   "id": "5610c2f8",
   "metadata": {},
   "outputs": [
    {
     "name": "stdout",
     "output_type": "stream",
     "text": [
      "[2]\n",
      "Complications occur\n"
     ]
    }
   ],
   "source": [
    "print(prediction)\n",
    "\n",
    "if prediction[0] == 0:\n",
    "    print('No Complications occur')\n",
    "else:\n",
    "    print('Complications occur')"
   ]
  },
  {
   "cell_type": "code",
   "execution_count": 253,
   "id": "2e499447",
   "metadata": {},
   "outputs": [],
   "source": [
    "input_data = (2,33,0,39.3,0,0,0,0,0,0,0,0,3,13,68,0,32.7,0,0,0,0,0,0,0,45,19,0,15.7,1.3,24350,190143,19,2.5,1,1,2)"
   ]
  },
  {
   "cell_type": "code",
   "execution_count": 254,
   "id": "741e489d",
   "metadata": {},
   "outputs": [],
   "source": [
    "input_data_as_numpy_array = np.asarray(input_data)"
   ]
  },
  {
   "cell_type": "code",
   "execution_count": 255,
   "id": "efaa9bf3",
   "metadata": {},
   "outputs": [],
   "source": [
    "input_data_reshaped = input_data_as_numpy_array.reshape(1,-1)"
   ]
  },
  {
   "cell_type": "code",
   "execution_count": 256,
   "id": "a262e568",
   "metadata": {},
   "outputs": [],
   "source": [
    "std_data =  scaler.transform(input_data_reshaped)"
   ]
  },
  {
   "cell_type": "code",
   "execution_count": 257,
   "id": "bcdca32b",
   "metadata": {},
   "outputs": [
    {
     "name": "stdout",
     "output_type": "stream",
     "text": [
      "[[ 2.00000000e+00  3.30000000e+01  1.09991136e-17  3.93000000e+01\n",
      "   1.28322991e-17  5.77453462e-17  1.97984044e-16 -4.76628254e-17\n",
      "  -1.46654847e-17  1.48488033e-16 -2.19982271e-17  1.50321219e-16\n",
      "   3.00000000e+00  1.30000000e+01  6.80000000e+01 -2.16315900e-16\n",
      "   3.27000000e+01  9.53256508e-17 -1.37488919e-17 -3.48305263e-17\n",
      "   2.29148199e-18 -7.33274237e-18 -2.56645983e-17 -8.61597229e-17\n",
      "   4.50000000e+01  1.90000000e+01  3.75803047e-17  1.57000000e+01\n",
      "   1.30000000e+00  2.43500000e+04  1.90143000e+05  1.90000000e+01\n",
      "   2.50000000e+00  1.00000000e+00  1.00000000e+00  2.00000000e+00]]\n"
     ]
    }
   ],
   "source": [
    "print(std_data)"
   ]
  },
  {
   "cell_type": "code",
   "execution_count": 258,
   "id": "40a2cdd8",
   "metadata": {},
   "outputs": [
    {
     "name": "stderr",
     "output_type": "stream",
     "text": [
      "C:\\Users\\91866\\anaconda3\\lib\\site-packages\\sklearn\\base.py:420: UserWarning: X does not have valid feature names, but RandomForestClassifier was fitted with feature names\n",
      "  warnings.warn(\n"
     ]
    }
   ],
   "source": [
    "prediction = model.predict(std_data)"
   ]
  },
  {
   "cell_type": "code",
   "execution_count": 259,
   "id": "ec0ea04f",
   "metadata": {},
   "outputs": [
    {
     "name": "stdout",
     "output_type": "stream",
     "text": [
      "[0]\n",
      "No Complications occur\n"
     ]
    }
   ],
   "source": [
    "print(prediction)\n",
    "\n",
    "if prediction[0] == 0:\n",
    "    print('No Complications occur')\n",
    "else:\n",
    "    print('Complications occur')"
   ]
  },
  {
   "cell_type": "markdown",
   "id": "5d8f92c6",
   "metadata": {},
   "source": [
    "##### AUTO ML"
   ]
  },
  {
   "cell_type": "code",
   "execution_count": 266,
   "id": "35bdebc3",
   "metadata": {},
   "outputs": [
    {
     "name": "stderr",
     "output_type": "stream",
     "text": [
      "WARNING: Ignoring invalid distribution -cipy (c:\\users\\91866\\anaconda3\\lib\\site-packages)\n",
      "ERROR: Invalid requirement: 'C++'\n",
      "WARNING: Ignoring invalid distribution -cipy (c:\\users\\91866\\anaconda3\\lib\\site-packages)\n",
      "WARNING: Ignoring invalid distribution -cipy (c:\\users\\91866\\anaconda3\\lib\\site-packages)\n",
      "WARNING: Ignoring invalid distribution -cipy (c:\\users\\91866\\anaconda3\\lib\\site-packages)\n"
     ]
    }
   ],
   "source": [
    "!pip install Microsoft Visual C++ Build Tools"
   ]
  },
  {
   "cell_type": "code",
   "execution_count": 267,
   "id": "235112fc",
   "metadata": {},
   "outputs": [
    {
     "name": "stdout",
     "output_type": "stream",
     "text": [
      "Requirement already satisfied: pip in c:\\users\\91866\\anaconda3\\lib\\site-packages (22.3.1)\n",
      "Collecting pip\n",
      "  Downloading pip-23.1.2-py3-none-any.whl (2.1 MB)\n",
      "     ---------------------------------------- 2.1/2.1 MB 364.2 kB/s eta 0:00:00\n"
     ]
    },
    {
     "name": "stderr",
     "output_type": "stream",
     "text": [
      "WARNING: Ignoring invalid distribution -cipy (c:\\users\\91866\\anaconda3\\lib\\site-packages)\n",
      "WARNING: Ignoring invalid distribution -cipy (c:\\users\\91866\\anaconda3\\lib\\site-packages)\n",
      "ERROR: To modify pip, please run the following command:\n",
      "C:\\Users\\91866\\anaconda3\\python.exe -m pip install --upgrade pip\n",
      "WARNING: Ignoring invalid distribution -cipy (c:\\users\\91866\\anaconda3\\lib\\site-packages)\n",
      "WARNING: Ignoring invalid distribution -cipy (c:\\users\\91866\\anaconda3\\lib\\site-packages)\n",
      "WARNING: Ignoring invalid distribution -cipy (c:\\users\\91866\\anaconda3\\lib\\site-packages)\n"
     ]
    }
   ],
   "source": [
    "!pip install --upgrade pip"
   ]
  },
  {
   "cell_type": "code",
   "execution_count": 268,
   "id": "054dd4a5",
   "metadata": {},
   "outputs": [
    {
     "name": "stdout",
     "output_type": "stream",
     "text": [
      "Files removed: 449\n"
     ]
    }
   ],
   "source": [
    "!pip cache purge"
   ]
  },
  {
   "cell_type": "markdown",
   "id": "bd966fd9",
   "metadata": {},
   "source": [
    "#### FLAML"
   ]
  },
  {
   "cell_type": "code",
   "execution_count": 278,
   "id": "137818bd",
   "metadata": {},
   "outputs": [
    {
     "name": "stdout",
     "output_type": "stream",
     "text": [
      "Collecting flaml\n",
      "  Downloading FLAML-1.2.4-py3-none-any.whl (260 kB)\n",
      "     -------------------------------------- 260.5/260.5 kB 1.5 MB/s eta 0:00:00\n",
      "Requirement already satisfied: scikit-learn>=0.24 in c:\\users\\91866\\anaconda3\\lib\\site-packages (from flaml) (1.2.1)\n",
      "Collecting lightgbm>=2.3.1\n",
      "  Downloading lightgbm-3.3.5-py3-none-win_amd64.whl (1.0 MB)\n",
      "     ---------------------------------------- 1.0/1.0 MB 3.2 MB/s eta 0:00:00\n",
      "Requirement already satisfied: pandas>=1.1.4 in c:\\users\\91866\\anaconda3\\lib\\site-packages (from flaml) (1.5.3)\n",
      "Requirement already satisfied: NumPy>=1.17.0rc1 in c:\\users\\91866\\anaconda3\\lib\\site-packages (from flaml) (1.23.5)\n",
      "Requirement already satisfied: xgboost>=0.90 in c:\\users\\91866\\anaconda3\\lib\\site-packages (from flaml) (1.7.5)\n",
      "Requirement already satisfied: scipy>=1.4.1 in c:\\users\\91866\\anaconda3\\lib\\site-packages (from flaml) (1.9.3)\n",
      "Requirement already satisfied: wheel in c:\\users\\91866\\anaconda3\\lib\\site-packages (from lightgbm>=2.3.1->flaml) (0.38.4)\n",
      "Requirement already satisfied: python-dateutil>=2.8.1 in c:\\users\\91866\\anaconda3\\lib\\site-packages (from pandas>=1.1.4->flaml) (2.8.2)\n",
      "Requirement already satisfied: pytz>=2020.1 in c:\\users\\91866\\anaconda3\\lib\\site-packages (from pandas>=1.1.4->flaml) (2022.7)\n",
      "Requirement already satisfied: threadpoolctl>=2.0.0 in c:\\users\\91866\\anaconda3\\lib\\site-packages (from scikit-learn>=0.24->flaml) (2.2.0)\n",
      "Requirement already satisfied: joblib>=1.1.1 in c:\\users\\91866\\anaconda3\\lib\\site-packages (from scikit-learn>=0.24->flaml) (1.1.1)\n",
      "Requirement already satisfied: six>=1.5 in c:\\users\\91866\\anaconda3\\lib\\site-packages (from python-dateutil>=2.8.1->pandas>=1.1.4->flaml) (1.16.0)\n",
      "Installing collected packages: lightgbm, flaml\n",
      "Successfully installed flaml-1.2.4 lightgbm-3.3.5\n"
     ]
    },
    {
     "name": "stderr",
     "output_type": "stream",
     "text": [
      "WARNING: Ignoring invalid distribution -cipy (c:\\users\\91866\\anaconda3\\lib\\site-packages)\n",
      "WARNING: Ignoring invalid distribution -cipy (c:\\users\\91866\\anaconda3\\lib\\site-packages)\n",
      "WARNING: Ignoring invalid distribution -cipy (c:\\users\\91866\\anaconda3\\lib\\site-packages)\n",
      "WARNING: Ignoring invalid distribution -cipy (c:\\users\\91866\\anaconda3\\lib\\site-packages)\n",
      "WARNING: Ignoring invalid distribution -cipy (c:\\users\\91866\\anaconda3\\lib\\site-packages)\n",
      "WARNING: Ignoring invalid distribution -cipy (c:\\users\\91866\\anaconda3\\lib\\site-packages)\n",
      "WARNING: Ignoring invalid distribution -cipy (c:\\users\\91866\\anaconda3\\lib\\site-packages)\n",
      "WARNING: Ignoring invalid distribution -cipy (c:\\users\\91866\\anaconda3\\lib\\site-packages)\n"
     ]
    }
   ],
   "source": [
    "!pip install flaml"
   ]
  },
  {
   "cell_type": "code",
   "execution_count": 279,
   "id": "f1c1288c",
   "metadata": {},
   "outputs": [],
   "source": [
    "from flaml import AutoML"
   ]
  },
  {
   "cell_type": "code",
   "execution_count": 281,
   "id": "453e0a02",
   "metadata": {},
   "outputs": [],
   "source": [
    "from sklearn.datasets import data"
   ]
  },
  {
   "cell_type": "code",
   "execution_count": 282,
   "id": "443ecf96",
   "metadata": {},
   "outputs": [],
   "source": [
    "#Initialize an AutoML instance\n",
    "automl = AutoML()"
   ]
  },
  {
   "cell_type": "code",
   "execution_count": 297,
   "id": "789232e5",
   "metadata": {},
   "outputs": [],
   "source": [
    "#Specify automl goal and constraint\n",
    "automl_settings = {\n",
    "    \"time_budget\": 60,  # Time budget in seconds\n",
    "    \"metric\": 'accuracy',  # Metric to optimize\n",
    "    \"task\": 'classification',  # Task type\n",
    "    \"log_file_name\": 'automl.log',  # Log file name\n",
    "}"
   ]
  },
  {
   "cell_type": "code",
   "execution_count": 287,
   "id": "78c4b0f3",
   "metadata": {},
   "outputs": [],
   "source": [
    "#balancing the data\n",
    "smote = SMOTE(random_state=42)\n",
    "X_train, y_train = smote.fit_resample(X,y)"
   ]
  },
  {
   "cell_type": "code",
   "execution_count": 289,
   "id": "4a815a7a",
   "metadata": {},
   "outputs": [
    {
     "name": "stdout",
     "output_type": "stream",
     "text": [
      "[flaml.automl.logger: 06-09 12:06:14] {1693} INFO - task = classification\n",
      "[flaml.automl.logger: 06-09 12:06:14] {1700} INFO - Data split method: stratified\n",
      "[flaml.automl.logger: 06-09 12:06:14] {1703} INFO - Evaluation method: cv\n",
      "[flaml.automl.logger: 06-09 12:06:14] {1801} INFO - Minimizing error metric: 1-accuracy\n",
      "[flaml.automl.logger: 06-09 12:06:14] {1911} INFO - List of ML learners in AutoML Run: ['lgbm', 'rf', 'xgboost', 'extra_tree', 'xgb_limitdepth', 'lrl1']\n",
      "[flaml.automl.logger: 06-09 12:06:14] {2221} INFO - iteration 0, current learner lgbm\n",
      "[flaml.automl.logger: 06-09 12:06:16] {2347} INFO - Estimated sufficient time budget=24542s. Estimated necessary time budget=566s.\n",
      "[flaml.automl.logger: 06-09 12:06:16] {2394} INFO -  at 2.8s,\testimator lgbm's best error=0.0701,\tbest estimator lgbm's best error=0.0701\n",
      "[flaml.automl.logger: 06-09 12:06:16] {2221} INFO - iteration 1, current learner lgbm\n",
      "[flaml.automl.logger: 06-09 12:06:17] {2394} INFO -  at 3.6s,\testimator lgbm's best error=0.0647,\tbest estimator lgbm's best error=0.0647\n",
      "[flaml.automl.logger: 06-09 12:06:17] {2221} INFO - iteration 2, current learner lgbm\n",
      "[flaml.automl.logger: 06-09 12:06:18] {2394} INFO -  at 4.2s,\testimator lgbm's best error=0.0647,\tbest estimator lgbm's best error=0.0647\n",
      "[flaml.automl.logger: 06-09 12:06:18] {2221} INFO - iteration 3, current learner lgbm\n",
      "[flaml.automl.logger: 06-09 12:06:19] {2394} INFO -  at 5.0s,\testimator lgbm's best error=0.0597,\tbest estimator lgbm's best error=0.0597\n",
      "[flaml.automl.logger: 06-09 12:06:19] {2221} INFO - iteration 4, current learner lgbm\n",
      "[flaml.automl.logger: 06-09 12:06:19] {2394} INFO -  at 5.6s,\testimator lgbm's best error=0.0597,\tbest estimator lgbm's best error=0.0597\n",
      "[flaml.automl.logger: 06-09 12:06:19] {2221} INFO - iteration 5, current learner lgbm\n",
      "[flaml.automl.logger: 06-09 12:06:20] {2394} INFO -  at 6.5s,\testimator lgbm's best error=0.0535,\tbest estimator lgbm's best error=0.0535\n",
      "[flaml.automl.logger: 06-09 12:06:20] {2221} INFO - iteration 6, current learner lgbm\n",
      "[flaml.automl.logger: 06-09 12:06:21] {2394} INFO -  at 7.0s,\testimator lgbm's best error=0.0535,\tbest estimator lgbm's best error=0.0535\n",
      "[flaml.automl.logger: 06-09 12:06:21] {2221} INFO - iteration 7, current learner lgbm\n",
      "[flaml.automl.logger: 06-09 12:06:21] {2394} INFO -  at 7.4s,\testimator lgbm's best error=0.0535,\tbest estimator lgbm's best error=0.0535\n",
      "[flaml.automl.logger: 06-09 12:06:21] {2221} INFO - iteration 8, current learner lgbm\n",
      "[flaml.automl.logger: 06-09 12:06:22] {2394} INFO -  at 8.2s,\testimator lgbm's best error=0.0471,\tbest estimator lgbm's best error=0.0471\n",
      "[flaml.automl.logger: 06-09 12:06:22] {2221} INFO - iteration 9, current learner lgbm\n",
      "[flaml.automl.logger: 06-09 12:06:22] {2394} INFO -  at 8.5s,\testimator lgbm's best error=0.0471,\tbest estimator lgbm's best error=0.0471\n",
      "[flaml.automl.logger: 06-09 12:06:22] {2221} INFO - iteration 10, current learner lgbm\n",
      "[flaml.automl.logger: 06-09 12:06:30] {2394} INFO -  at 16.5s,\testimator lgbm's best error=0.0435,\tbest estimator lgbm's best error=0.0435\n",
      "[flaml.automl.logger: 06-09 12:06:30] {2221} INFO - iteration 11, current learner xgboost\n"
     ]
    },
    {
     "name": "stderr",
     "output_type": "stream",
     "text": [
      "C:\\Users\\91866\\anaconda3\\lib\\site-packages\\xgboost\\sklearn.py:1395: UserWarning: `use_label_encoder` is deprecated in 1.7.0.\n",
      "  warnings.warn(\"`use_label_encoder` is deprecated in 1.7.0.\")\n",
      "C:\\Users\\91866\\anaconda3\\lib\\site-packages\\xgboost\\sklearn.py:1395: UserWarning: `use_label_encoder` is deprecated in 1.7.0.\n",
      "  warnings.warn(\"`use_label_encoder` is deprecated in 1.7.0.\")\n",
      "C:\\Users\\91866\\anaconda3\\lib\\site-packages\\xgboost\\sklearn.py:1395: UserWarning: `use_label_encoder` is deprecated in 1.7.0.\n",
      "  warnings.warn(\"`use_label_encoder` is deprecated in 1.7.0.\")\n",
      "C:\\Users\\91866\\anaconda3\\lib\\site-packages\\xgboost\\sklearn.py:1395: UserWarning: `use_label_encoder` is deprecated in 1.7.0.\n",
      "  warnings.warn(\"`use_label_encoder` is deprecated in 1.7.0.\")\n",
      "C:\\Users\\91866\\anaconda3\\lib\\site-packages\\xgboost\\sklearn.py:1395: UserWarning: `use_label_encoder` is deprecated in 1.7.0.\n",
      "  warnings.warn(\"`use_label_encoder` is deprecated in 1.7.0.\")\n"
     ]
    },
    {
     "name": "stdout",
     "output_type": "stream",
     "text": [
      "[flaml.automl.logger: 06-09 12:06:33] {2394} INFO -  at 18.8s,\testimator xgboost's best error=0.0402,\tbest estimator xgboost's best error=0.0402\n",
      "[flaml.automl.logger: 06-09 12:06:33] {2221} INFO - iteration 12, current learner xgboost\n"
     ]
    },
    {
     "name": "stderr",
     "output_type": "stream",
     "text": [
      "C:\\Users\\91866\\anaconda3\\lib\\site-packages\\xgboost\\sklearn.py:1395: UserWarning: `use_label_encoder` is deprecated in 1.7.0.\n",
      "  warnings.warn(\"`use_label_encoder` is deprecated in 1.7.0.\")\n",
      "C:\\Users\\91866\\anaconda3\\lib\\site-packages\\xgboost\\sklearn.py:1395: UserWarning: `use_label_encoder` is deprecated in 1.7.0.\n",
      "  warnings.warn(\"`use_label_encoder` is deprecated in 1.7.0.\")\n",
      "C:\\Users\\91866\\anaconda3\\lib\\site-packages\\xgboost\\sklearn.py:1395: UserWarning: `use_label_encoder` is deprecated in 1.7.0.\n",
      "  warnings.warn(\"`use_label_encoder` is deprecated in 1.7.0.\")\n",
      "C:\\Users\\91866\\anaconda3\\lib\\site-packages\\xgboost\\sklearn.py:1395: UserWarning: `use_label_encoder` is deprecated in 1.7.0.\n",
      "  warnings.warn(\"`use_label_encoder` is deprecated in 1.7.0.\")\n"
     ]
    },
    {
     "name": "stdout",
     "output_type": "stream",
     "text": [
      "[flaml.automl.logger: 06-09 12:06:33] {2394} INFO -  at 19.1s,\testimator xgboost's best error=0.0402,\tbest estimator xgboost's best error=0.0402\n",
      "[flaml.automl.logger: 06-09 12:06:33] {2221} INFO - iteration 13, current learner xgboost\n"
     ]
    },
    {
     "name": "stderr",
     "output_type": "stream",
     "text": [
      "C:\\Users\\91866\\anaconda3\\lib\\site-packages\\xgboost\\sklearn.py:1395: UserWarning: `use_label_encoder` is deprecated in 1.7.0.\n",
      "  warnings.warn(\"`use_label_encoder` is deprecated in 1.7.0.\")\n",
      "C:\\Users\\91866\\anaconda3\\lib\\site-packages\\xgboost\\sklearn.py:1395: UserWarning: `use_label_encoder` is deprecated in 1.7.0.\n",
      "  warnings.warn(\"`use_label_encoder` is deprecated in 1.7.0.\")\n",
      "C:\\Users\\91866\\anaconda3\\lib\\site-packages\\xgboost\\sklearn.py:1395: UserWarning: `use_label_encoder` is deprecated in 1.7.0.\n",
      "  warnings.warn(\"`use_label_encoder` is deprecated in 1.7.0.\")\n",
      "C:\\Users\\91866\\anaconda3\\lib\\site-packages\\xgboost\\sklearn.py:1395: UserWarning: `use_label_encoder` is deprecated in 1.7.0.\n",
      "  warnings.warn(\"`use_label_encoder` is deprecated in 1.7.0.\")\n"
     ]
    },
    {
     "name": "stdout",
     "output_type": "stream",
     "text": [
      "[flaml.automl.logger: 06-09 12:06:33] {2394} INFO -  at 19.5s,\testimator xgboost's best error=0.0367,\tbest estimator xgboost's best error=0.0367\n",
      "[flaml.automl.logger: 06-09 12:06:33] {2221} INFO - iteration 14, current learner xgboost\n"
     ]
    },
    {
     "name": "stderr",
     "output_type": "stream",
     "text": [
      "C:\\Users\\91866\\anaconda3\\lib\\site-packages\\xgboost\\sklearn.py:1395: UserWarning: `use_label_encoder` is deprecated in 1.7.0.\n",
      "  warnings.warn(\"`use_label_encoder` is deprecated in 1.7.0.\")\n",
      "C:\\Users\\91866\\anaconda3\\lib\\site-packages\\xgboost\\sklearn.py:1395: UserWarning: `use_label_encoder` is deprecated in 1.7.0.\n",
      "  warnings.warn(\"`use_label_encoder` is deprecated in 1.7.0.\")\n",
      "C:\\Users\\91866\\anaconda3\\lib\\site-packages\\xgboost\\sklearn.py:1395: UserWarning: `use_label_encoder` is deprecated in 1.7.0.\n",
      "  warnings.warn(\"`use_label_encoder` is deprecated in 1.7.0.\")\n",
      "C:\\Users\\91866\\anaconda3\\lib\\site-packages\\xgboost\\sklearn.py:1395: UserWarning: `use_label_encoder` is deprecated in 1.7.0.\n",
      "  warnings.warn(\"`use_label_encoder` is deprecated in 1.7.0.\")\n",
      "C:\\Users\\91866\\anaconda3\\lib\\site-packages\\xgboost\\sklearn.py:1395: UserWarning: `use_label_encoder` is deprecated in 1.7.0.\n",
      "  warnings.warn(\"`use_label_encoder` is deprecated in 1.7.0.\")\n",
      "C:\\Users\\91866\\anaconda3\\lib\\site-packages\\xgboost\\sklearn.py:1395: UserWarning: `use_label_encoder` is deprecated in 1.7.0.\n",
      "  warnings.warn(\"`use_label_encoder` is deprecated in 1.7.0.\")\n",
      "C:\\Users\\91866\\anaconda3\\lib\\site-packages\\xgboost\\sklearn.py:1395: UserWarning: `use_label_encoder` is deprecated in 1.7.0.\n",
      "  warnings.warn(\"`use_label_encoder` is deprecated in 1.7.0.\")\n"
     ]
    },
    {
     "name": "stdout",
     "output_type": "stream",
     "text": [
      "[flaml.automl.logger: 06-09 12:06:34] {2394} INFO -  at 20.0s,\testimator xgboost's best error=0.0259,\tbest estimator xgboost's best error=0.0259\n",
      "[flaml.automl.logger: 06-09 12:06:34] {2221} INFO - iteration 15, current learner xgboost\n"
     ]
    },
    {
     "name": "stderr",
     "output_type": "stream",
     "text": [
      "C:\\Users\\91866\\anaconda3\\lib\\site-packages\\xgboost\\sklearn.py:1395: UserWarning: `use_label_encoder` is deprecated in 1.7.0.\n",
      "  warnings.warn(\"`use_label_encoder` is deprecated in 1.7.0.\")\n",
      "C:\\Users\\91866\\anaconda3\\lib\\site-packages\\xgboost\\sklearn.py:1395: UserWarning: `use_label_encoder` is deprecated in 1.7.0.\n",
      "  warnings.warn(\"`use_label_encoder` is deprecated in 1.7.0.\")\n",
      "C:\\Users\\91866\\anaconda3\\lib\\site-packages\\xgboost\\sklearn.py:1395: UserWarning: `use_label_encoder` is deprecated in 1.7.0.\n",
      "  warnings.warn(\"`use_label_encoder` is deprecated in 1.7.0.\")\n"
     ]
    },
    {
     "name": "stdout",
     "output_type": "stream",
     "text": [
      "[flaml.automl.logger: 06-09 12:06:34] {2394} INFO -  at 20.5s,\testimator xgboost's best error=0.0205,\tbest estimator xgboost's best error=0.0205\n",
      "[flaml.automl.logger: 06-09 12:06:34] {2221} INFO - iteration 16, current learner xgboost\n"
     ]
    },
    {
     "name": "stderr",
     "output_type": "stream",
     "text": [
      "C:\\Users\\91866\\anaconda3\\lib\\site-packages\\xgboost\\sklearn.py:1395: UserWarning: `use_label_encoder` is deprecated in 1.7.0.\n",
      "  warnings.warn(\"`use_label_encoder` is deprecated in 1.7.0.\")\n",
      "C:\\Users\\91866\\anaconda3\\lib\\site-packages\\xgboost\\sklearn.py:1395: UserWarning: `use_label_encoder` is deprecated in 1.7.0.\n",
      "  warnings.warn(\"`use_label_encoder` is deprecated in 1.7.0.\")\n",
      "C:\\Users\\91866\\anaconda3\\lib\\site-packages\\xgboost\\sklearn.py:1395: UserWarning: `use_label_encoder` is deprecated in 1.7.0.\n",
      "  warnings.warn(\"`use_label_encoder` is deprecated in 1.7.0.\")\n",
      "C:\\Users\\91866\\anaconda3\\lib\\site-packages\\xgboost\\sklearn.py:1395: UserWarning: `use_label_encoder` is deprecated in 1.7.0.\n",
      "  warnings.warn(\"`use_label_encoder` is deprecated in 1.7.0.\")\n",
      "C:\\Users\\91866\\anaconda3\\lib\\site-packages\\xgboost\\sklearn.py:1395: UserWarning: `use_label_encoder` is deprecated in 1.7.0.\n",
      "  warnings.warn(\"`use_label_encoder` is deprecated in 1.7.0.\")\n"
     ]
    },
    {
     "name": "stdout",
     "output_type": "stream",
     "text": [
      "[flaml.automl.logger: 06-09 12:06:35] {2394} INFO -  at 20.9s,\testimator xgboost's best error=0.0205,\tbest estimator xgboost's best error=0.0205\n",
      "[flaml.automl.logger: 06-09 12:06:35] {2221} INFO - iteration 17, current learner xgboost\n"
     ]
    },
    {
     "name": "stderr",
     "output_type": "stream",
     "text": [
      "C:\\Users\\91866\\anaconda3\\lib\\site-packages\\xgboost\\sklearn.py:1395: UserWarning: `use_label_encoder` is deprecated in 1.7.0.\n",
      "  warnings.warn(\"`use_label_encoder` is deprecated in 1.7.0.\")\n",
      "C:\\Users\\91866\\anaconda3\\lib\\site-packages\\xgboost\\sklearn.py:1395: UserWarning: `use_label_encoder` is deprecated in 1.7.0.\n",
      "  warnings.warn(\"`use_label_encoder` is deprecated in 1.7.0.\")\n",
      "C:\\Users\\91866\\anaconda3\\lib\\site-packages\\xgboost\\sklearn.py:1395: UserWarning: `use_label_encoder` is deprecated in 1.7.0.\n",
      "  warnings.warn(\"`use_label_encoder` is deprecated in 1.7.0.\")\n",
      "C:\\Users\\91866\\anaconda3\\lib\\site-packages\\xgboost\\sklearn.py:1395: UserWarning: `use_label_encoder` is deprecated in 1.7.0.\n",
      "  warnings.warn(\"`use_label_encoder` is deprecated in 1.7.0.\")\n",
      "C:\\Users\\91866\\anaconda3\\lib\\site-packages\\xgboost\\sklearn.py:1395: UserWarning: `use_label_encoder` is deprecated in 1.7.0.\n",
      "  warnings.warn(\"`use_label_encoder` is deprecated in 1.7.0.\")\n",
      "C:\\Users\\91866\\anaconda3\\lib\\site-packages\\xgboost\\sklearn.py:1395: UserWarning: `use_label_encoder` is deprecated in 1.7.0.\n",
      "  warnings.warn(\"`use_label_encoder` is deprecated in 1.7.0.\")\n",
      "C:\\Users\\91866\\anaconda3\\lib\\site-packages\\xgboost\\sklearn.py:1395: UserWarning: `use_label_encoder` is deprecated in 1.7.0.\n",
      "  warnings.warn(\"`use_label_encoder` is deprecated in 1.7.0.\")\n"
     ]
    },
    {
     "name": "stdout",
     "output_type": "stream",
     "text": [
      "[flaml.automl.logger: 06-09 12:06:35] {2394} INFO -  at 21.6s,\testimator xgboost's best error=0.0137,\tbest estimator xgboost's best error=0.0137\n",
      "[flaml.automl.logger: 06-09 12:06:35] {2221} INFO - iteration 18, current learner xgboost\n"
     ]
    },
    {
     "name": "stderr",
     "output_type": "stream",
     "text": [
      "C:\\Users\\91866\\anaconda3\\lib\\site-packages\\xgboost\\sklearn.py:1395: UserWarning: `use_label_encoder` is deprecated in 1.7.0.\n",
      "  warnings.warn(\"`use_label_encoder` is deprecated in 1.7.0.\")\n",
      "C:\\Users\\91866\\anaconda3\\lib\\site-packages\\xgboost\\sklearn.py:1395: UserWarning: `use_label_encoder` is deprecated in 1.7.0.\n",
      "  warnings.warn(\"`use_label_encoder` is deprecated in 1.7.0.\")\n",
      "C:\\Users\\91866\\anaconda3\\lib\\site-packages\\xgboost\\sklearn.py:1395: UserWarning: `use_label_encoder` is deprecated in 1.7.0.\n",
      "  warnings.warn(\"`use_label_encoder` is deprecated in 1.7.0.\")\n",
      "C:\\Users\\91866\\anaconda3\\lib\\site-packages\\xgboost\\sklearn.py:1395: UserWarning: `use_label_encoder` is deprecated in 1.7.0.\n",
      "  warnings.warn(\"`use_label_encoder` is deprecated in 1.7.0.\")\n"
     ]
    },
    {
     "name": "stdout",
     "output_type": "stream",
     "text": [
      "[flaml.automl.logger: 06-09 12:06:36] {2394} INFO -  at 22.4s,\testimator xgboost's best error=0.0137,\tbest estimator xgboost's best error=0.0137\n",
      "[flaml.automl.logger: 06-09 12:06:36] {2221} INFO - iteration 19, current learner xgboost\n"
     ]
    },
    {
     "name": "stderr",
     "output_type": "stream",
     "text": [
      "C:\\Users\\91866\\anaconda3\\lib\\site-packages\\xgboost\\sklearn.py:1395: UserWarning: `use_label_encoder` is deprecated in 1.7.0.\n",
      "  warnings.warn(\"`use_label_encoder` is deprecated in 1.7.0.\")\n",
      "C:\\Users\\91866\\anaconda3\\lib\\site-packages\\xgboost\\sklearn.py:1395: UserWarning: `use_label_encoder` is deprecated in 1.7.0.\n",
      "  warnings.warn(\"`use_label_encoder` is deprecated in 1.7.0.\")\n",
      "C:\\Users\\91866\\anaconda3\\lib\\site-packages\\xgboost\\sklearn.py:1395: UserWarning: `use_label_encoder` is deprecated in 1.7.0.\n",
      "  warnings.warn(\"`use_label_encoder` is deprecated in 1.7.0.\")\n",
      "C:\\Users\\91866\\anaconda3\\lib\\site-packages\\xgboost\\sklearn.py:1395: UserWarning: `use_label_encoder` is deprecated in 1.7.0.\n",
      "  warnings.warn(\"`use_label_encoder` is deprecated in 1.7.0.\")\n",
      "C:\\Users\\91866\\anaconda3\\lib\\site-packages\\xgboost\\sklearn.py:1395: UserWarning: `use_label_encoder` is deprecated in 1.7.0.\n",
      "  warnings.warn(\"`use_label_encoder` is deprecated in 1.7.0.\")\n",
      "C:\\Users\\91866\\anaconda3\\lib\\site-packages\\xgboost\\sklearn.py:1395: UserWarning: `use_label_encoder` is deprecated in 1.7.0.\n",
      "  warnings.warn(\"`use_label_encoder` is deprecated in 1.7.0.\")\n"
     ]
    },
    {
     "name": "stdout",
     "output_type": "stream",
     "text": [
      "[flaml.automl.logger: 06-09 12:06:37] {2394} INFO -  at 23.1s,\testimator xgboost's best error=0.0137,\tbest estimator xgboost's best error=0.0137\n",
      "[flaml.automl.logger: 06-09 12:06:37] {2221} INFO - iteration 20, current learner xgboost\n"
     ]
    },
    {
     "name": "stderr",
     "output_type": "stream",
     "text": [
      "C:\\Users\\91866\\anaconda3\\lib\\site-packages\\xgboost\\sklearn.py:1395: UserWarning: `use_label_encoder` is deprecated in 1.7.0.\n",
      "  warnings.warn(\"`use_label_encoder` is deprecated in 1.7.0.\")\n",
      "C:\\Users\\91866\\anaconda3\\lib\\site-packages\\xgboost\\sklearn.py:1395: UserWarning: `use_label_encoder` is deprecated in 1.7.0.\n",
      "  warnings.warn(\"`use_label_encoder` is deprecated in 1.7.0.\")\n",
      "C:\\Users\\91866\\anaconda3\\lib\\site-packages\\xgboost\\sklearn.py:1395: UserWarning: `use_label_encoder` is deprecated in 1.7.0.\n",
      "  warnings.warn(\"`use_label_encoder` is deprecated in 1.7.0.\")\n",
      "C:\\Users\\91866\\anaconda3\\lib\\site-packages\\xgboost\\sklearn.py:1395: UserWarning: `use_label_encoder` is deprecated in 1.7.0.\n",
      "  warnings.warn(\"`use_label_encoder` is deprecated in 1.7.0.\")\n",
      "C:\\Users\\91866\\anaconda3\\lib\\site-packages\\xgboost\\sklearn.py:1395: UserWarning: `use_label_encoder` is deprecated in 1.7.0.\n",
      "  warnings.warn(\"`use_label_encoder` is deprecated in 1.7.0.\")\n"
     ]
    },
    {
     "name": "stdout",
     "output_type": "stream",
     "text": [
      "[flaml.automl.logger: 06-09 12:06:38] {2394} INFO -  at 24.5s,\testimator xgboost's best error=0.0137,\tbest estimator xgboost's best error=0.0137\n",
      "[flaml.automl.logger: 06-09 12:06:38] {2221} INFO - iteration 21, current learner xgboost\n"
     ]
    },
    {
     "name": "stderr",
     "output_type": "stream",
     "text": [
      "C:\\Users\\91866\\anaconda3\\lib\\site-packages\\xgboost\\sklearn.py:1395: UserWarning: `use_label_encoder` is deprecated in 1.7.0.\n",
      "  warnings.warn(\"`use_label_encoder` is deprecated in 1.7.0.\")\n",
      "C:\\Users\\91866\\anaconda3\\lib\\site-packages\\xgboost\\sklearn.py:1395: UserWarning: `use_label_encoder` is deprecated in 1.7.0.\n",
      "  warnings.warn(\"`use_label_encoder` is deprecated in 1.7.0.\")\n",
      "C:\\Users\\91866\\anaconda3\\lib\\site-packages\\xgboost\\sklearn.py:1395: UserWarning: `use_label_encoder` is deprecated in 1.7.0.\n",
      "  warnings.warn(\"`use_label_encoder` is deprecated in 1.7.0.\")\n",
      "C:\\Users\\91866\\anaconda3\\lib\\site-packages\\xgboost\\sklearn.py:1395: UserWarning: `use_label_encoder` is deprecated in 1.7.0.\n",
      "  warnings.warn(\"`use_label_encoder` is deprecated in 1.7.0.\")\n",
      "C:\\Users\\91866\\anaconda3\\lib\\site-packages\\xgboost\\sklearn.py:1395: UserWarning: `use_label_encoder` is deprecated in 1.7.0.\n",
      "  warnings.warn(\"`use_label_encoder` is deprecated in 1.7.0.\")\n"
     ]
    },
    {
     "name": "stdout",
     "output_type": "stream",
     "text": [
      "[flaml.automl.logger: 06-09 12:06:39] {2394} INFO -  at 25.7s,\testimator xgboost's best error=0.0137,\tbest estimator xgboost's best error=0.0137\n",
      "[flaml.automl.logger: 06-09 12:06:39] {2221} INFO - iteration 22, current learner xgboost\n"
     ]
    },
    {
     "name": "stderr",
     "output_type": "stream",
     "text": [
      "C:\\Users\\91866\\anaconda3\\lib\\site-packages\\xgboost\\sklearn.py:1395: UserWarning: `use_label_encoder` is deprecated in 1.7.0.\n",
      "  warnings.warn(\"`use_label_encoder` is deprecated in 1.7.0.\")\n",
      "C:\\Users\\91866\\anaconda3\\lib\\site-packages\\xgboost\\sklearn.py:1395: UserWarning: `use_label_encoder` is deprecated in 1.7.0.\n",
      "  warnings.warn(\"`use_label_encoder` is deprecated in 1.7.0.\")\n",
      "C:\\Users\\91866\\anaconda3\\lib\\site-packages\\xgboost\\sklearn.py:1395: UserWarning: `use_label_encoder` is deprecated in 1.7.0.\n",
      "  warnings.warn(\"`use_label_encoder` is deprecated in 1.7.0.\")\n",
      "C:\\Users\\91866\\anaconda3\\lib\\site-packages\\xgboost\\sklearn.py:1395: UserWarning: `use_label_encoder` is deprecated in 1.7.0.\n",
      "  warnings.warn(\"`use_label_encoder` is deprecated in 1.7.0.\")\n"
     ]
    },
    {
     "name": "stdout",
     "output_type": "stream",
     "text": [
      "[flaml.automl.logger: 06-09 12:06:40] {2394} INFO -  at 26.7s,\testimator xgboost's best error=0.0137,\tbest estimator xgboost's best error=0.0137\n",
      "[flaml.automl.logger: 06-09 12:06:40] {2221} INFO - iteration 23, current learner extra_tree\n"
     ]
    },
    {
     "name": "stderr",
     "output_type": "stream",
     "text": [
      "C:\\Users\\91866\\anaconda3\\lib\\site-packages\\xgboost\\sklearn.py:1395: UserWarning: `use_label_encoder` is deprecated in 1.7.0.\n",
      "  warnings.warn(\"`use_label_encoder` is deprecated in 1.7.0.\")\n"
     ]
    },
    {
     "name": "stdout",
     "output_type": "stream",
     "text": [
      "[flaml.automl.logger: 06-09 12:06:43] {2394} INFO -  at 29.0s,\testimator extra_tree's best error=0.3040,\tbest estimator xgboost's best error=0.0137\n",
      "[flaml.automl.logger: 06-09 12:06:43] {2221} INFO - iteration 24, current learner extra_tree\n",
      "[flaml.automl.logger: 06-09 12:06:43] {2394} INFO -  at 29.2s,\testimator extra_tree's best error=0.2512,\tbest estimator xgboost's best error=0.0137\n",
      "[flaml.automl.logger: 06-09 12:06:43] {2221} INFO - iteration 25, current learner xgboost\n"
     ]
    },
    {
     "name": "stderr",
     "output_type": "stream",
     "text": [
      "C:\\Users\\91866\\anaconda3\\lib\\site-packages\\xgboost\\sklearn.py:1395: UserWarning: `use_label_encoder` is deprecated in 1.7.0.\n",
      "  warnings.warn(\"`use_label_encoder` is deprecated in 1.7.0.\")\n",
      "C:\\Users\\91866\\anaconda3\\lib\\site-packages\\xgboost\\sklearn.py:1395: UserWarning: `use_label_encoder` is deprecated in 1.7.0.\n",
      "  warnings.warn(\"`use_label_encoder` is deprecated in 1.7.0.\")\n",
      "C:\\Users\\91866\\anaconda3\\lib\\site-packages\\xgboost\\sklearn.py:1395: UserWarning: `use_label_encoder` is deprecated in 1.7.0.\n",
      "  warnings.warn(\"`use_label_encoder` is deprecated in 1.7.0.\")\n",
      "C:\\Users\\91866\\anaconda3\\lib\\site-packages\\xgboost\\sklearn.py:1395: UserWarning: `use_label_encoder` is deprecated in 1.7.0.\n",
      "  warnings.warn(\"`use_label_encoder` is deprecated in 1.7.0.\")\n",
      "C:\\Users\\91866\\anaconda3\\lib\\site-packages\\xgboost\\sklearn.py:1395: UserWarning: `use_label_encoder` is deprecated in 1.7.0.\n",
      "  warnings.warn(\"`use_label_encoder` is deprecated in 1.7.0.\")\n"
     ]
    },
    {
     "name": "stdout",
     "output_type": "stream",
     "text": [
      "[flaml.automl.logger: 06-09 12:06:45] {2394} INFO -  at 31.2s,\testimator xgboost's best error=0.0137,\tbest estimator xgboost's best error=0.0137\n",
      "[flaml.automl.logger: 06-09 12:06:45] {2221} INFO - iteration 26, current learner extra_tree\n",
      "[flaml.automl.logger: 06-09 12:06:45] {2394} INFO -  at 31.5s,\testimator extra_tree's best error=0.2512,\tbest estimator xgboost's best error=0.0137\n",
      "[flaml.automl.logger: 06-09 12:06:45] {2221} INFO - iteration 27, current learner rf\n",
      "[flaml.automl.logger: 06-09 12:06:46] {2394} INFO -  at 31.8s,\testimator rf's best error=0.2303,\tbest estimator xgboost's best error=0.0137\n",
      "[flaml.automl.logger: 06-09 12:06:46] {2221} INFO - iteration 28, current learner xgboost\n"
     ]
    },
    {
     "name": "stderr",
     "output_type": "stream",
     "text": [
      "C:\\Users\\91866\\anaconda3\\lib\\site-packages\\xgboost\\sklearn.py:1395: UserWarning: `use_label_encoder` is deprecated in 1.7.0.\n",
      "  warnings.warn(\"`use_label_encoder` is deprecated in 1.7.0.\")\n",
      "C:\\Users\\91866\\anaconda3\\lib\\site-packages\\xgboost\\sklearn.py:1395: UserWarning: `use_label_encoder` is deprecated in 1.7.0.\n",
      "  warnings.warn(\"`use_label_encoder` is deprecated in 1.7.0.\")\n",
      "C:\\Users\\91866\\anaconda3\\lib\\site-packages\\xgboost\\sklearn.py:1395: UserWarning: `use_label_encoder` is deprecated in 1.7.0.\n",
      "  warnings.warn(\"`use_label_encoder` is deprecated in 1.7.0.\")\n",
      "C:\\Users\\91866\\anaconda3\\lib\\site-packages\\xgboost\\sklearn.py:1395: UserWarning: `use_label_encoder` is deprecated in 1.7.0.\n",
      "  warnings.warn(\"`use_label_encoder` is deprecated in 1.7.0.\")\n",
      "C:\\Users\\91866\\anaconda3\\lib\\site-packages\\xgboost\\sklearn.py:1395: UserWarning: `use_label_encoder` is deprecated in 1.7.0.\n",
      "  warnings.warn(\"`use_label_encoder` is deprecated in 1.7.0.\")\n"
     ]
    },
    {
     "name": "stdout",
     "output_type": "stream",
     "text": [
      "[flaml.automl.logger: 06-09 12:06:46] {2394} INFO -  at 32.7s,\testimator xgboost's best error=0.0137,\tbest estimator xgboost's best error=0.0137\n",
      "[flaml.automl.logger: 06-09 12:06:46] {2221} INFO - iteration 29, current learner xgboost\n"
     ]
    },
    {
     "name": "stderr",
     "output_type": "stream",
     "text": [
      "C:\\Users\\91866\\anaconda3\\lib\\site-packages\\xgboost\\sklearn.py:1395: UserWarning: `use_label_encoder` is deprecated in 1.7.0.\n",
      "  warnings.warn(\"`use_label_encoder` is deprecated in 1.7.0.\")\n",
      "C:\\Users\\91866\\anaconda3\\lib\\site-packages\\xgboost\\sklearn.py:1395: UserWarning: `use_label_encoder` is deprecated in 1.7.0.\n",
      "  warnings.warn(\"`use_label_encoder` is deprecated in 1.7.0.\")\n",
      "C:\\Users\\91866\\anaconda3\\lib\\site-packages\\xgboost\\sklearn.py:1395: UserWarning: `use_label_encoder` is deprecated in 1.7.0.\n",
      "  warnings.warn(\"`use_label_encoder` is deprecated in 1.7.0.\")\n",
      "C:\\Users\\91866\\anaconda3\\lib\\site-packages\\xgboost\\sklearn.py:1395: UserWarning: `use_label_encoder` is deprecated in 1.7.0.\n",
      "  warnings.warn(\"`use_label_encoder` is deprecated in 1.7.0.\")\n",
      "C:\\Users\\91866\\anaconda3\\lib\\site-packages\\xgboost\\sklearn.py:1395: UserWarning: `use_label_encoder` is deprecated in 1.7.0.\n",
      "  warnings.warn(\"`use_label_encoder` is deprecated in 1.7.0.\")\n"
     ]
    },
    {
     "name": "stdout",
     "output_type": "stream",
     "text": [
      "[flaml.automl.logger: 06-09 12:06:49] {2394} INFO -  at 35.0s,\testimator xgboost's best error=0.0137,\tbest estimator xgboost's best error=0.0137\n",
      "[flaml.automl.logger: 06-09 12:06:49] {2221} INFO - iteration 30, current learner rf\n",
      "[flaml.automl.logger: 06-09 12:06:49] {2394} INFO -  at 35.3s,\testimator rf's best error=0.2160,\tbest estimator xgboost's best error=0.0137\n",
      "[flaml.automl.logger: 06-09 12:06:49] {2221} INFO - iteration 31, current learner rf\n",
      "[flaml.automl.logger: 06-09 12:06:49] {2394} INFO -  at 35.6s,\testimator rf's best error=0.2160,\tbest estimator xgboost's best error=0.0137\n",
      "[flaml.automl.logger: 06-09 12:06:49] {2221} INFO - iteration 32, current learner rf\n",
      "[flaml.automl.logger: 06-09 12:06:50] {2394} INFO -  at 36.2s,\testimator rf's best error=0.1574,\tbest estimator xgboost's best error=0.0137\n",
      "[flaml.automl.logger: 06-09 12:06:50] {2221} INFO - iteration 33, current learner extra_tree\n",
      "[flaml.automl.logger: 06-09 12:06:50] {2394} INFO -  at 36.6s,\testimator extra_tree's best error=0.2436,\tbest estimator xgboost's best error=0.0137\n",
      "[flaml.automl.logger: 06-09 12:06:50] {2221} INFO - iteration 34, current learner rf\n",
      "[flaml.automl.logger: 06-09 12:06:51] {2394} INFO -  at 36.8s,\testimator rf's best error=0.1574,\tbest estimator xgboost's best error=0.0137\n",
      "[flaml.automl.logger: 06-09 12:06:51] {2221} INFO - iteration 35, current learner rf\n",
      "[flaml.automl.logger: 06-09 12:06:51] {2394} INFO -  at 37.7s,\testimator rf's best error=0.1312,\tbest estimator xgboost's best error=0.0137\n",
      "[flaml.automl.logger: 06-09 12:06:51] {2221} INFO - iteration 36, current learner extra_tree\n",
      "[flaml.automl.logger: 06-09 12:06:52] {2394} INFO -  at 38.1s,\testimator extra_tree's best error=0.2436,\tbest estimator xgboost's best error=0.0137\n",
      "[flaml.automl.logger: 06-09 12:06:52] {2221} INFO - iteration 37, current learner xgboost\n"
     ]
    },
    {
     "name": "stderr",
     "output_type": "stream",
     "text": [
      "C:\\Users\\91866\\anaconda3\\lib\\site-packages\\xgboost\\sklearn.py:1395: UserWarning: `use_label_encoder` is deprecated in 1.7.0.\n",
      "  warnings.warn(\"`use_label_encoder` is deprecated in 1.7.0.\")\n",
      "C:\\Users\\91866\\anaconda3\\lib\\site-packages\\xgboost\\sklearn.py:1395: UserWarning: `use_label_encoder` is deprecated in 1.7.0.\n",
      "  warnings.warn(\"`use_label_encoder` is deprecated in 1.7.0.\")\n",
      "C:\\Users\\91866\\anaconda3\\lib\\site-packages\\xgboost\\sklearn.py:1395: UserWarning: `use_label_encoder` is deprecated in 1.7.0.\n",
      "  warnings.warn(\"`use_label_encoder` is deprecated in 1.7.0.\")\n",
      "C:\\Users\\91866\\anaconda3\\lib\\site-packages\\xgboost\\sklearn.py:1395: UserWarning: `use_label_encoder` is deprecated in 1.7.0.\n",
      "  warnings.warn(\"`use_label_encoder` is deprecated in 1.7.0.\")\n",
      "C:\\Users\\91866\\anaconda3\\lib\\site-packages\\xgboost\\sklearn.py:1395: UserWarning: `use_label_encoder` is deprecated in 1.7.0.\n",
      "  warnings.warn(\"`use_label_encoder` is deprecated in 1.7.0.\")\n"
     ]
    },
    {
     "name": "stdout",
     "output_type": "stream",
     "text": [
      "[flaml.automl.logger: 06-09 12:06:53] {2394} INFO -  at 39.3s,\testimator xgboost's best error=0.0137,\tbest estimator xgboost's best error=0.0137\n",
      "[flaml.automl.logger: 06-09 12:06:53] {2221} INFO - iteration 38, current learner xgboost\n"
     ]
    },
    {
     "name": "stderr",
     "output_type": "stream",
     "text": [
      "C:\\Users\\91866\\anaconda3\\lib\\site-packages\\xgboost\\sklearn.py:1395: UserWarning: `use_label_encoder` is deprecated in 1.7.0.\n",
      "  warnings.warn(\"`use_label_encoder` is deprecated in 1.7.0.\")\n",
      "C:\\Users\\91866\\anaconda3\\lib\\site-packages\\xgboost\\sklearn.py:1395: UserWarning: `use_label_encoder` is deprecated in 1.7.0.\n",
      "  warnings.warn(\"`use_label_encoder` is deprecated in 1.7.0.\")\n",
      "C:\\Users\\91866\\anaconda3\\lib\\site-packages\\xgboost\\sklearn.py:1395: UserWarning: `use_label_encoder` is deprecated in 1.7.0.\n",
      "  warnings.warn(\"`use_label_encoder` is deprecated in 1.7.0.\")\n",
      "C:\\Users\\91866\\anaconda3\\lib\\site-packages\\xgboost\\sklearn.py:1395: UserWarning: `use_label_encoder` is deprecated in 1.7.0.\n",
      "  warnings.warn(\"`use_label_encoder` is deprecated in 1.7.0.\")\n",
      "C:\\Users\\91866\\anaconda3\\lib\\site-packages\\xgboost\\sklearn.py:1395: UserWarning: `use_label_encoder` is deprecated in 1.7.0.\n",
      "  warnings.warn(\"`use_label_encoder` is deprecated in 1.7.0.\")\n"
     ]
    },
    {
     "name": "stdout",
     "output_type": "stream",
     "text": [
      "[flaml.automl.logger: 06-09 12:06:55] {2394} INFO -  at 41.2s,\testimator xgboost's best error=0.0137,\tbest estimator xgboost's best error=0.0137\n",
      "[flaml.automl.logger: 06-09 12:06:55] {2221} INFO - iteration 39, current learner rf\n",
      "[flaml.automl.logger: 06-09 12:06:55] {2394} INFO -  at 41.8s,\testimator rf's best error=0.1312,\tbest estimator xgboost's best error=0.0137\n",
      "[flaml.automl.logger: 06-09 12:06:55] {2221} INFO - iteration 40, current learner xgboost\n"
     ]
    },
    {
     "name": "stderr",
     "output_type": "stream",
     "text": [
      "C:\\Users\\91866\\anaconda3\\lib\\site-packages\\xgboost\\sklearn.py:1395: UserWarning: `use_label_encoder` is deprecated in 1.7.0.\n",
      "  warnings.warn(\"`use_label_encoder` is deprecated in 1.7.0.\")\n",
      "C:\\Users\\91866\\anaconda3\\lib\\site-packages\\xgboost\\sklearn.py:1395: UserWarning: `use_label_encoder` is deprecated in 1.7.0.\n",
      "  warnings.warn(\"`use_label_encoder` is deprecated in 1.7.0.\")\n",
      "C:\\Users\\91866\\anaconda3\\lib\\site-packages\\xgboost\\sklearn.py:1395: UserWarning: `use_label_encoder` is deprecated in 1.7.0.\n",
      "  warnings.warn(\"`use_label_encoder` is deprecated in 1.7.0.\")\n",
      "C:\\Users\\91866\\anaconda3\\lib\\site-packages\\xgboost\\sklearn.py:1395: UserWarning: `use_label_encoder` is deprecated in 1.7.0.\n",
      "  warnings.warn(\"`use_label_encoder` is deprecated in 1.7.0.\")\n",
      "C:\\Users\\91866\\anaconda3\\lib\\site-packages\\xgboost\\sklearn.py:1395: UserWarning: `use_label_encoder` is deprecated in 1.7.0.\n",
      "  warnings.warn(\"`use_label_encoder` is deprecated in 1.7.0.\")\n"
     ]
    },
    {
     "name": "stdout",
     "output_type": "stream",
     "text": [
      "[flaml.automl.logger: 06-09 12:06:56] {2394} INFO -  at 42.3s,\testimator xgboost's best error=0.0137,\tbest estimator xgboost's best error=0.0137\n",
      "[flaml.automl.logger: 06-09 12:06:56] {2221} INFO - iteration 41, current learner xgboost\n"
     ]
    },
    {
     "name": "stderr",
     "output_type": "stream",
     "text": [
      "C:\\Users\\91866\\anaconda3\\lib\\site-packages\\xgboost\\sklearn.py:1395: UserWarning: `use_label_encoder` is deprecated in 1.7.0.\n",
      "  warnings.warn(\"`use_label_encoder` is deprecated in 1.7.0.\")\n",
      "C:\\Users\\91866\\anaconda3\\lib\\site-packages\\xgboost\\sklearn.py:1395: UserWarning: `use_label_encoder` is deprecated in 1.7.0.\n",
      "  warnings.warn(\"`use_label_encoder` is deprecated in 1.7.0.\")\n",
      "C:\\Users\\91866\\anaconda3\\lib\\site-packages\\xgboost\\sklearn.py:1395: UserWarning: `use_label_encoder` is deprecated in 1.7.0.\n",
      "  warnings.warn(\"`use_label_encoder` is deprecated in 1.7.0.\")\n",
      "C:\\Users\\91866\\anaconda3\\lib\\site-packages\\xgboost\\sklearn.py:1395: UserWarning: `use_label_encoder` is deprecated in 1.7.0.\n",
      "  warnings.warn(\"`use_label_encoder` is deprecated in 1.7.0.\")\n",
      "C:\\Users\\91866\\anaconda3\\lib\\site-packages\\xgboost\\sklearn.py:1395: UserWarning: `use_label_encoder` is deprecated in 1.7.0.\n",
      "  warnings.warn(\"`use_label_encoder` is deprecated in 1.7.0.\")\n"
     ]
    },
    {
     "name": "stdout",
     "output_type": "stream",
     "text": [
      "[flaml.automl.logger: 06-09 12:07:00] {2394} INFO -  at 45.9s,\testimator xgboost's best error=0.0137,\tbest estimator xgboost's best error=0.0137\n",
      "[flaml.automl.logger: 06-09 12:07:00] {2221} INFO - iteration 42, current learner lgbm\n",
      "[flaml.automl.logger: 06-09 12:07:06] {2394} INFO -  at 52.8s,\testimator lgbm's best error=0.0417,\tbest estimator xgboost's best error=0.0137\n",
      "[flaml.automl.logger: 06-09 12:07:06] {2221} INFO - iteration 43, current learner xgboost\n"
     ]
    },
    {
     "name": "stderr",
     "output_type": "stream",
     "text": [
      "C:\\Users\\91866\\anaconda3\\lib\\site-packages\\xgboost\\sklearn.py:1395: UserWarning: `use_label_encoder` is deprecated in 1.7.0.\n",
      "  warnings.warn(\"`use_label_encoder` is deprecated in 1.7.0.\")\n",
      "C:\\Users\\91866\\anaconda3\\lib\\site-packages\\xgboost\\sklearn.py:1395: UserWarning: `use_label_encoder` is deprecated in 1.7.0.\n",
      "  warnings.warn(\"`use_label_encoder` is deprecated in 1.7.0.\")\n",
      "C:\\Users\\91866\\anaconda3\\lib\\site-packages\\xgboost\\sklearn.py:1395: UserWarning: `use_label_encoder` is deprecated in 1.7.0.\n",
      "  warnings.warn(\"`use_label_encoder` is deprecated in 1.7.0.\")\n",
      "C:\\Users\\91866\\anaconda3\\lib\\site-packages\\xgboost\\sklearn.py:1395: UserWarning: `use_label_encoder` is deprecated in 1.7.0.\n",
      "  warnings.warn(\"`use_label_encoder` is deprecated in 1.7.0.\")\n",
      "C:\\Users\\91866\\anaconda3\\lib\\site-packages\\xgboost\\sklearn.py:1395: UserWarning: `use_label_encoder` is deprecated in 1.7.0.\n",
      "  warnings.warn(\"`use_label_encoder` is deprecated in 1.7.0.\")\n"
     ]
    },
    {
     "name": "stdout",
     "output_type": "stream",
     "text": [
      "[flaml.automl.logger: 06-09 12:07:07] {2394} INFO -  at 53.3s,\testimator xgboost's best error=0.0137,\tbest estimator xgboost's best error=0.0137\n",
      "[flaml.automl.logger: 06-09 12:07:07] {2221} INFO - iteration 44, current learner extra_tree\n",
      "[flaml.automl.logger: 06-09 12:07:07] {2394} INFO -  at 53.8s,\testimator extra_tree's best error=0.1394,\tbest estimator xgboost's best error=0.0137\n",
      "[flaml.automl.logger: 06-09 12:07:07] {2221} INFO - iteration 45, current learner extra_tree\n",
      "[flaml.automl.logger: 06-09 12:07:08] {2394} INFO -  at 54.1s,\testimator extra_tree's best error=0.1394,\tbest estimator xgboost's best error=0.0137\n",
      "[flaml.automl.logger: 06-09 12:07:08] {2221} INFO - iteration 46, current learner extra_tree\n",
      "[flaml.automl.logger: 06-09 12:07:09] {2394} INFO -  at 54.9s,\testimator extra_tree's best error=0.0521,\tbest estimator xgboost's best error=0.0137\n",
      "[flaml.automl.logger: 06-09 12:07:09] {2221} INFO - iteration 47, current learner extra_tree\n",
      "[flaml.automl.logger: 06-09 12:07:09] {2394} INFO -  at 55.3s,\testimator extra_tree's best error=0.0521,\tbest estimator xgboost's best error=0.0137\n",
      "[flaml.automl.logger: 06-09 12:07:09] {2221} INFO - iteration 48, current learner xgboost\n"
     ]
    },
    {
     "name": "stderr",
     "output_type": "stream",
     "text": [
      "C:\\Users\\91866\\anaconda3\\lib\\site-packages\\xgboost\\sklearn.py:1395: UserWarning: `use_label_encoder` is deprecated in 1.7.0.\n",
      "  warnings.warn(\"`use_label_encoder` is deprecated in 1.7.0.\")\n",
      "C:\\Users\\91866\\anaconda3\\lib\\site-packages\\xgboost\\sklearn.py:1395: UserWarning: `use_label_encoder` is deprecated in 1.7.0.\n",
      "  warnings.warn(\"`use_label_encoder` is deprecated in 1.7.0.\")\n",
      "C:\\Users\\91866\\anaconda3\\lib\\site-packages\\xgboost\\sklearn.py:1395: UserWarning: `use_label_encoder` is deprecated in 1.7.0.\n",
      "  warnings.warn(\"`use_label_encoder` is deprecated in 1.7.0.\")\n",
      "C:\\Users\\91866\\anaconda3\\lib\\site-packages\\xgboost\\sklearn.py:1395: UserWarning: `use_label_encoder` is deprecated in 1.7.0.\n",
      "  warnings.warn(\"`use_label_encoder` is deprecated in 1.7.0.\")\n",
      "C:\\Users\\91866\\anaconda3\\lib\\site-packages\\xgboost\\sklearn.py:1395: UserWarning: `use_label_encoder` is deprecated in 1.7.0.\n",
      "  warnings.warn(\"`use_label_encoder` is deprecated in 1.7.0.\")\n"
     ]
    },
    {
     "name": "stdout",
     "output_type": "stream",
     "text": [
      "[flaml.automl.logger: 06-09 12:07:11] {2394} INFO -  at 57.6s,\testimator xgboost's best error=0.0129,\tbest estimator xgboost's best error=0.0129\n",
      "[flaml.automl.logger: 06-09 12:07:11] {2221} INFO - iteration 49, current learner extra_tree\n",
      "[flaml.automl.logger: 06-09 12:07:13] {2394} INFO -  at 58.9s,\testimator extra_tree's best error=0.0521,\tbest estimator xgboost's best error=0.0129\n",
      "[flaml.automl.logger: 06-09 12:07:13] {2221} INFO - iteration 50, current learner extra_tree\n",
      "[flaml.automl.logger: 06-09 12:07:13] {2394} INFO -  at 59.4s,\testimator extra_tree's best error=0.0521,\tbest estimator xgboost's best error=0.0129\n",
      "[flaml.automl.logger: 06-09 12:07:13] {2221} INFO - iteration 51, current learner xgb_limitdepth\n"
     ]
    },
    {
     "name": "stderr",
     "output_type": "stream",
     "text": [
      "C:\\Users\\91866\\anaconda3\\lib\\site-packages\\xgboost\\sklearn.py:1395: UserWarning: `use_label_encoder` is deprecated in 1.7.0.\n",
      "  warnings.warn(\"`use_label_encoder` is deprecated in 1.7.0.\")\n",
      "C:\\Users\\91866\\anaconda3\\lib\\site-packages\\xgboost\\sklearn.py:1395: UserWarning: `use_label_encoder` is deprecated in 1.7.0.\n",
      "  warnings.warn(\"`use_label_encoder` is deprecated in 1.7.0.\")\n",
      "C:\\Users\\91866\\anaconda3\\lib\\site-packages\\xgboost\\sklearn.py:1395: UserWarning: `use_label_encoder` is deprecated in 1.7.0.\n",
      "  warnings.warn(\"`use_label_encoder` is deprecated in 1.7.0.\")\n"
     ]
    },
    {
     "name": "stdout",
     "output_type": "stream",
     "text": [
      "[flaml.automl.logger: 06-09 12:07:14] {2394} INFO -  at 60.1s,\testimator xgb_limitdepth's best error=0.0168,\tbest estimator xgboost's best error=0.0129\n"
     ]
    },
    {
     "name": "stderr",
     "output_type": "stream",
     "text": [
      "C:\\Users\\91866\\anaconda3\\lib\\site-packages\\xgboost\\sklearn.py:1395: UserWarning: `use_label_encoder` is deprecated in 1.7.0.\n",
      "  warnings.warn(\"`use_label_encoder` is deprecated in 1.7.0.\")\n"
     ]
    },
    {
     "name": "stdout",
     "output_type": "stream",
     "text": [
      "[flaml.automl.logger: 06-09 12:07:14] {2630} INFO - retrain xgboost for 0.4s\n",
      "[flaml.automl.logger: 06-09 12:07:14] {2633} INFO - retrained model: XGBClassifier(base_score=None, booster=None, callbacks=[],\n",
      "              colsample_bylevel=0.8833142421826156, colsample_bynode=None,\n",
      "              colsample_bytree=0.9423882066359944, early_stopping_rounds=None,\n",
      "              enable_categorical=False, eval_metric=None, feature_types=None,\n",
      "              gamma=None, gpu_id=None, grow_policy='lossguide',\n",
      "              importance_type=None, interaction_constraints=None,\n",
      "              learning_rate=0.28181396744910253, max_bin=None,\n",
      "              max_cat_threshold=None, max_cat_to_onehot=None,\n",
      "              max_delta_step=None, max_depth=0, max_leaves=29,\n",
      "              min_child_weight=0.5688945573206103, missing=nan,\n",
      "              monotone_constraints=None, n_estimators=16, n_jobs=-1,\n",
      "              num_parallel_tree=None, objective='multi:softprob',\n",
      "              predictor=None, ...)\n",
      "[flaml.automl.logger: 06-09 12:07:14] {1941} INFO - fit succeeded\n",
      "[flaml.automl.logger: 06-09 12:07:14] {1942} INFO - Time taken to find the best model: 57.63791513442993\n"
     ]
    }
   ],
   "source": [
    "# Train with labeled input data\n",
    "automl.fit(X_train=X_train, y_train=y_train, **automl_settings)"
   ]
  },
  {
   "cell_type": "code",
   "execution_count": 292,
   "id": "37dedc6b",
   "metadata": {},
   "outputs": [
    {
     "name": "stdout",
     "output_type": "stream",
     "text": [
      "<bound method AutoML.fit of AutoML(append_log=False, auto_augment=True, custom_hp={},\n",
      "       cv_score_agg_func=None, early_stop=False, ensemble=False,\n",
      "       estimator_list='auto', eval_method='auto', fit_kwargs_by_estimator={},\n",
      "       force_cancel=False, free_mem_ratio=0, hpo_method='auto',\n",
      "       keep_search_state=False, learner_selector='sample', log_file_name='',\n",
      "       log_training_metric=False, log_type='better', max_iter=None,\n",
      "       mem_thres=4294967296, metric='auto', metric_constraints=[],\n",
      "       min_sample_size=10000, mlflow_logging=True, model_history=False,\n",
      "       n_concurrent_trials=1, n_jobs=-1, n_splits=5, pred_time_limit=inf,\n",
      "       preserve_checkpoint=True, retrain_full=True, ...)>\n"
     ]
    }
   ],
   "source": [
    "print(automl.fit)"
   ]
  },
  {
   "cell_type": "code",
   "execution_count": 294,
   "id": "95db18f1",
   "metadata": {},
   "outputs": [
    {
     "name": "stdout",
     "output_type": "stream",
     "text": [
      "[[0.00139183 0.00195561 0.00133914 ... 0.00247037 0.00133958 0.00177726]\n",
      " [0.94896126 0.00314039 0.02118742 ... 0.0029906  0.00283583 0.00286577]\n",
      " [0.00152683 0.00152156 0.0015756  ... 0.00531062 0.00152263 0.0015387 ]\n",
      " ...\n",
      " [0.00133442 0.00145861 0.00131738 ... 0.00214126 0.00131781 0.983886  ]\n",
      " [0.00137236 0.00135295 0.00131638 ... 0.00220463 0.00131681 0.98314005]\n",
      " [0.00166282 0.00191851 0.00131373 ... 0.00207078 0.00131416 0.9833129 ]]\n",
      "<flaml.automl.model.XGBoostSklearnEstimator object at 0x000001A0B9F8B3A0>\n"
     ]
    }
   ],
   "source": [
    "# Predict\n",
    "print(automl.predict_proba(X_train))\n",
    "\n",
    "# Export the best model\n",
    "print(automl.model)"
   ]
  },
  {
   "cell_type": "code",
   "execution_count": null,
   "id": "388468a0",
   "metadata": {},
   "outputs": [],
   "source": []
  }
 ],
 "metadata": {
  "kernelspec": {
   "display_name": "Python 3 (ipykernel)",
   "language": "python",
   "name": "python3"
  },
  "language_info": {
   "codemirror_mode": {
    "name": "ipython",
    "version": 3
   },
   "file_extension": ".py",
   "mimetype": "text/x-python",
   "name": "python",
   "nbconvert_exporter": "python",
   "pygments_lexer": "ipython3",
   "version": "3.10.9"
  }
 },
 "nbformat": 4,
 "nbformat_minor": 5
}
